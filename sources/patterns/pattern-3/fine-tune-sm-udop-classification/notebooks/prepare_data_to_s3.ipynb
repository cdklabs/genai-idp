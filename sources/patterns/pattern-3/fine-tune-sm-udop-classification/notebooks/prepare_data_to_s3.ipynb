{
 "cells": [
  {
   "cell_type": "code",
   "execution_count": 1,
   "id": "86c04c5f-a7c1-478d-ba11-1ead6a836c3e",
   "metadata": {},
   "outputs": [],
   "source": [
    "import json\n",
    "\n",
    "from datasets import load_dataset"
   ]
  },
  {
   "cell_type": "code",
   "execution_count": 2,
   "id": "3056f169-d441-43f7-a486-2f16a0f46896",
   "metadata": {},
   "outputs": [],
   "source": [
    "mapping = {\n",
    "  0: \"letter\",\n",
    "  1: \"form\",\n",
    "  2: \"email\",\n",
    "  3: \"handwritten\",\n",
    "  4: \"advertisement\",\n",
    "  5: \"scientific report\",\n",
    "  6: \"scientific publication\",\n",
    "  7: \"specification\",\n",
    "  8: \"file folder\",\n",
    "  9: \"news article\",\n",
    "  10: \"budget\",\n",
    "  11: \"invoice\",\n",
    "  12: \"presentation\",\n",
    "  13: \"questionnaire\",\n",
    "  14: \"resume\",\n",
    "  15: \"memo\"\n",
    "}"
   ]
  },
  {
   "cell_type": "code",
   "execution_count": 3,
   "id": "8590570b-0ad6-42f8-8b53-1acc8af2ec4b",
   "metadata": {},
   "outputs": [],
   "source": [
    "def prepare_data(split):\n",
    "    labels = []\n",
    "    data = load_dataset(\"jordyvl/rvl_cdip_100_examples_per_class\", split=split)\n",
    "    for idx, dt in enumerate(data):\n",
    "        label = mapping[dt['label']]\n",
    "        with open('./rvl_cdip_jordyvl/{}/labels/{}.json'.format(split, idx), 'w') as jfile:\n",
    "            json.dump({'label': label}, jfile)\n",
    "        labels.append(label)\n",
    "    with open('./rvl_cdip_jordyvl/{}/metadata.json'.format(split), 'w') as jfile:\n",
    "        json.dump({\n",
    "            'labels': list(set(labels)),\n",
    "            'size': len(data),\n",
    "            'name': 'RVLCDIP'\n",
    "        }, jfile)"
   ]
  },
  {
   "cell_type": "code",
   "execution_count": 4,
   "id": "31caac63-e072-4f33-8ca5-67657cc16175",
   "metadata": {},
   "outputs": [],
   "source": [
    "prepare_data('test')"
   ]
  },
  {
   "cell_type": "code",
   "execution_count": 5,
   "id": "0b4a641b-2bcc-41c2-bd32-fa25dddde38d",
   "metadata": {},
   "outputs": [],
   "source": [
    "prepare_data('train')"
   ]
  },
  {
   "cell_type": "code",
   "execution_count": 6,
   "id": "e5a313ba-9a1a-4c96-bcb4-8133d21ae11d",
   "metadata": {},
   "outputs": [],
   "source": [
    "!aws s3 sync rvl_cdip_jordyvl/train/ s3://udop-finetuning/train/ --quiet"
   ]
  },
  {
   "cell_type": "code",
   "execution_count": 7,
   "id": "b9ed0199-5c47-4db7-bb18-1be3d1aa02c9",
   "metadata": {},
   "outputs": [],
   "source": [
    "!aws s3 sync rvl_cdip_jordyvl/test/ s3://udop-finetuning/test/ --quiet"
   ]
  }
 ],
 "metadata": {
  "kernelspec": {
   "display_name": "venv",
   "language": "python",
   "name": "python3"
  },
  "language_info": {
   "codemirror_mode": {
    "name": "ipython",
    "version": 3
   },
   "file_extension": ".py",
   "mimetype": "text/x-python",
   "name": "python",
   "nbconvert_exporter": "python",
   "pygments_lexer": "ipython3",
   "version": "3.10.16"
  }
 },
 "nbformat": 4,
 "nbformat_minor": 5
}
