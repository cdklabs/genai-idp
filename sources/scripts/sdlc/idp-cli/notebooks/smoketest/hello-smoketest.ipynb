{
 "cells": [
  {
   "cell_type": "code",
   "execution_count": 1,
   "metadata": {},
   "outputs": [
    {
     "data": {
      "text/plain": [
       "True"
      ]
     },
     "execution_count": 1,
     "metadata": {},
     "output_type": "execute_result"
    }
   ],
   "source": [
    "%load_ext autoreload\n",
    "%autoreload 2\n",
    "\n",
    "import json\n",
    "from IPython.display import Markdown, JSON\n",
    "from dotenv import load_dotenv\n",
    "\n",
    "from loguru import logger\n",
    "\n",
    "load_dotenv()"
   ]
  },
  {
   "cell_type": "code",
   "execution_count": 2,
   "metadata": {},
   "outputs": [
    {
     "name": "stderr",
     "output_type": "stream",
     "text": [
      "\u001b[32m2025-02-26 21:29:04.358\u001b[0m | \u001b[34m\u001b[1mDEBUG   \u001b[0m | \u001b[36midp_cli.service.smoketest_service\u001b[0m:\u001b[36m__init__\u001b[0m:\u001b[36m19\u001b[0m - \u001b[34m\u001b[1mInitialized SmokeTestService with stack_name: idp-Stack\u001b[0m\n"
     ]
    }
   ],
   "source": [
    "from idp_cli.service.smoketest_service import SmokeTestService\n",
    "\n",
    "stack_name=\"idp-Stack\"\n",
    "\n",
    "file_path=\"../../../../../samples/rvl_cdip_package.pdf\"\n",
    "verify_string=\"WESTERN DARK FIRED TOBACCO GROWERS\"\n",
    "\n",
    "service = SmokeTestService(\n",
    "    stack_name=stack_name,\n",
    "    file_path=file_path,\n",
    "    verify_string=verify_string\n",
    "    )"
   ]
  },
  {
   "cell_type": "code",
   "execution_count": 3,
   "metadata": {},
   "outputs": [
    {
     "name": "stderr",
     "output_type": "stream",
     "text": [
      "\u001b[32m2025-02-26 21:29:04.368\u001b[0m | \u001b[34m\u001b[1mDEBUG   \u001b[0m | \u001b[36midp_cli.service.smoketest_service\u001b[0m:\u001b[36mdo_smoketest\u001b[0m:\u001b[36m130\u001b[0m - \u001b[34m\u001b[1mStarting smoke test\u001b[0m\n",
      "\u001b[32m2025-02-26 21:29:04.368\u001b[0m | \u001b[34m\u001b[1mDEBUG   \u001b[0m | \u001b[36midp_cli.service.smoketest_service\u001b[0m:\u001b[36mget_bucket_names\u001b[0m:\u001b[36m22\u001b[0m - \u001b[34m\u001b[1mGetting bucket names for stack: idp-Stack\u001b[0m\n",
      "\u001b[32m2025-02-26 21:29:05.404\u001b[0m | \u001b[34m\u001b[1mDEBUG   \u001b[0m | \u001b[36midp_cli.service.smoketest_service\u001b[0m:\u001b[36mget_bucket_names\u001b[0m:\u001b[36m27\u001b[0m - \u001b[34m\u001b[1mRetrieved bucket names - Input: idp-stack-inputbucket-rvnbd3tssnr2, Output: idp-stack-outputbucket-nmr0c6usoket\u001b[0m\n",
      "\u001b[32m2025-02-26 21:29:05.405\u001b[0m | \u001b[34m\u001b[1mDEBUG   \u001b[0m | \u001b[36midp_cli.service.smoketest_service\u001b[0m:\u001b[36mdo_smoketest\u001b[0m:\u001b[36m134\u001b[0m - \u001b[34m\u001b[1mUsing input bucket: idp-stack-inputbucket-rvnbd3tssnr2\u001b[0m\n",
      "\u001b[32m2025-02-26 21:29:05.406\u001b[0m | \u001b[34m\u001b[1mDEBUG   \u001b[0m | \u001b[36midp_cli.service.smoketest_service\u001b[0m:\u001b[36mdo_smoketest\u001b[0m:\u001b[36m135\u001b[0m - \u001b[34m\u001b[1mUsing output bucket: idp-stack-outputbucket-nmr0c6usoket\u001b[0m\n",
      "\u001b[32m2025-02-26 21:29:05.407\u001b[0m | \u001b[34m\u001b[1mDEBUG   \u001b[0m | \u001b[36midp_cli.service.smoketest_service\u001b[0m:\u001b[36mupload_testfile\u001b[0m:\u001b[36m33\u001b[0m - \u001b[34m\u001b[1mLoading test file from: ../../../../../samples/rvl_cdip_package.pdf\u001b[0m\n",
      "\u001b[32m2025-02-26 21:29:05.409\u001b[0m | \u001b[34m\u001b[1mDEBUG   \u001b[0m | \u001b[36midp_cli.service.smoketest_service\u001b[0m:\u001b[36mupload_testfile\u001b[0m:\u001b[36m39\u001b[0m - \u001b[34m\u001b[1mLoaded 1903809 bytes from test file\u001b[0m\n",
      "\u001b[32m2025-02-26 21:29:05.409\u001b[0m | \u001b[34m\u001b[1mDEBUG   \u001b[0m | \u001b[36midp_cli.service.smoketest_service\u001b[0m:\u001b[36mget_bucket_names\u001b[0m:\u001b[36m22\u001b[0m - \u001b[34m\u001b[1mGetting bucket names for stack: idp-Stack\u001b[0m\n",
      "\u001b[32m2025-02-26 21:29:06.448\u001b[0m | \u001b[34m\u001b[1mDEBUG   \u001b[0m | \u001b[36midp_cli.service.smoketest_service\u001b[0m:\u001b[36mget_bucket_names\u001b[0m:\u001b[36m27\u001b[0m - \u001b[34m\u001b[1mRetrieved bucket names - Input: idp-stack-inputbucket-rvnbd3tssnr2, Output: idp-stack-outputbucket-nmr0c6usoket\u001b[0m\n",
      "\u001b[32m2025-02-26 21:29:06.449\u001b[0m | \u001b[34m\u001b[1mDEBUG   \u001b[0m | \u001b[36midp_cli.service.smoketest_service\u001b[0m:\u001b[36mupload_testfile\u001b[0m:\u001b[36m45\u001b[0m - \u001b[34m\u001b[1mUploading test file to bucket: idp-stack-inputbucket-rvnbd3tssnr2, key: rvl_cdip_package.pdf\u001b[0m\n",
      "\u001b[32m2025-02-26 21:29:10.766\u001b[0m | \u001b[34m\u001b[1mDEBUG   \u001b[0m | \u001b[36midp_cli.service.smoketest_service\u001b[0m:\u001b[36mupload_testfile\u001b[0m:\u001b[36m51\u001b[0m - \u001b[34m\u001b[1mSuccessfully uploaded test file\u001b[0m\n",
      "\u001b[32m2025-02-26 21:29:10.768\u001b[0m | \u001b[34m\u001b[1mDEBUG   \u001b[0m | \u001b[36midp_cli.service.smoketest_service\u001b[0m:\u001b[36mdo_smoketest\u001b[0m:\u001b[36m139\u001b[0m - \u001b[34m\u001b[1mUploaded test file: rvl_cdip_package.pdf\u001b[0m\n",
      "\u001b[32m2025-02-26 21:29:10.768\u001b[0m | \u001b[34m\u001b[1mDEBUG   \u001b[0m | \u001b[36midp_cli.service.smoketest_service\u001b[0m:\u001b[36mdo_smoketest\u001b[0m:\u001b[36m142\u001b[0m - \u001b[34m\u001b[1mWaiting for processing to complete...\u001b[0m\n",
      "\u001b[32m2025-02-26 21:29:10.768\u001b[0m | \u001b[34m\u001b[1mDEBUG   \u001b[0m | \u001b[36midp_cli.service.smoketest_service\u001b[0m:\u001b[36mget_bucket_names\u001b[0m:\u001b[36m22\u001b[0m - \u001b[34m\u001b[1mGetting bucket names for stack: idp-Stack\u001b[0m\n",
      "\u001b[32m2025-02-26 21:29:11.828\u001b[0m | \u001b[34m\u001b[1mDEBUG   \u001b[0m | \u001b[36midp_cli.service.smoketest_service\u001b[0m:\u001b[36mget_bucket_names\u001b[0m:\u001b[36m27\u001b[0m - \u001b[34m\u001b[1mRetrieved bucket names - Input: idp-stack-inputbucket-rvnbd3tssnr2, Output: idp-stack-outputbucket-nmr0c6usoket\u001b[0m\n",
      "\u001b[32m2025-02-26 21:29:11.829\u001b[0m | \u001b[34m\u001b[1mDEBUG   \u001b[0m | \u001b[36midp_cli.service.smoketest_service\u001b[0m:\u001b[36mwait_for_processing\u001b[0m:\u001b[36m62\u001b[0m - \u001b[34m\u001b[1mWaiting for processing, checking for folder: rvl_cdip_package.pdf/ in bucket: idp-stack-outputbucket-nmr0c6usoket\u001b[0m\n",
      "\u001b[32m2025-02-26 21:29:11.830\u001b[0m | \u001b[34m\u001b[1mDEBUG   \u001b[0m | \u001b[36midp_cli.service.smoketest_service\u001b[0m:\u001b[36mwait_for_processing\u001b[0m:\u001b[36m67\u001b[0m - \u001b[34m\u001b[1mAttempt 1/100 to check for folder\u001b[0m\n",
      "\u001b[32m2025-02-26 21:29:12.356\u001b[0m | \u001b[34m\u001b[1mDEBUG   \u001b[0m | \u001b[36midp_cli.util.s3_util\u001b[0m:\u001b[36mlist_objects\u001b[0m:\u001b[36m451\u001b[0m - \u001b[34m\u001b[1mListed 1 objects from bucket 'idp-stack-outputbucket-nmr0c6usoket' with prefix 'rvl_cdip_package.pdf/'\u001b[0m\n",
      "\u001b[32m2025-02-26 21:29:12.358\u001b[0m | \u001b[34m\u001b[1mDEBUG   \u001b[0m | \u001b[36midp_cli.service.smoketest_service\u001b[0m:\u001b[36mwait_for_processing\u001b[0m:\u001b[36m76\u001b[0m - \u001b[34m\u001b[1m{'Contents': [{'Key': 'rvl_cdip_package.pdf/pages/1/image.jpg', 'LastModified': datetime.datetime(2025, 2, 27, 3, 26, 18, tzinfo=tzutc()), 'ETag': '\"4a66a68824fa4d5cf4fa35dfc964fa5f\"', 'ChecksumAlgorithm': ['CRC32'], 'ChecksumType': 'FULL_OBJECT', 'Size': 106629, 'StorageClass': 'STANDARD'}], 'IsTruncated': True, 'NextContinuationToken': '1mL0u6XN/s0fwyfT3WjlJt8aALe//hzDkNtM/ZOEtwmu26/viHll6XQ2ilnrUmUFDqLgH7VAlChPaXV5IEkOwPJmFmFXfvGNg6+LCkRCI3mtA/Nm5U1ybi8ubBqy2Rgep'}\u001b[0m\n",
      "\u001b[32m2025-02-26 21:29:12.359\u001b[0m | \u001b[34m\u001b[1mDEBUG   \u001b[0m | \u001b[36midp_cli.service.smoketest_service\u001b[0m:\u001b[36mwait_for_processing\u001b[0m:\u001b[36m80\u001b[0m - \u001b[34m\u001b[1mSuccessfully found folder: rvl_cdip_package.pdf/\u001b[0m\n",
      "\u001b[32m2025-02-26 21:29:12.359\u001b[0m | \u001b[34m\u001b[1mDEBUG   \u001b[0m | \u001b[36midp_cli.service.smoketest_service\u001b[0m:\u001b[36mdo_smoketest\u001b[0m:\u001b[36m144\u001b[0m - \u001b[34m\u001b[1mProcessing completed!\u001b[0m\n",
      "\u001b[32m2025-02-26 21:29:12.359\u001b[0m | \u001b[34m\u001b[1mDEBUG   \u001b[0m | \u001b[36midp_cli.service.smoketest_service\u001b[0m:\u001b[36mverify_result\u001b[0m:\u001b[36m93\u001b[0m - \u001b[34m\u001b[1mVerifying processing result\u001b[0m\n",
      "\u001b[32m2025-02-26 21:29:12.360\u001b[0m | \u001b[34m\u001b[1mDEBUG   \u001b[0m | \u001b[36midp_cli.service.smoketest_service\u001b[0m:\u001b[36mget_bucket_names\u001b[0m:\u001b[36m22\u001b[0m - \u001b[34m\u001b[1mGetting bucket names for stack: idp-Stack\u001b[0m\n",
      "\u001b[32m2025-02-26 21:29:13.370\u001b[0m | \u001b[34m\u001b[1mDEBUG   \u001b[0m | \u001b[36midp_cli.service.smoketest_service\u001b[0m:\u001b[36mget_bucket_names\u001b[0m:\u001b[36m27\u001b[0m - \u001b[34m\u001b[1mRetrieved bucket names - Input: idp-stack-inputbucket-rvnbd3tssnr2, Output: idp-stack-outputbucket-nmr0c6usoket\u001b[0m\n",
      "\u001b[32m2025-02-26 21:29:13.371\u001b[0m | \u001b[34m\u001b[1mDEBUG   \u001b[0m | \u001b[36midp_cli.service.smoketest_service\u001b[0m:\u001b[36mverify_result\u001b[0m:\u001b[36m100\u001b[0m - \u001b[34m\u001b[1mLooking for result file at: s3://idp-stack-outputbucket-nmr0c6usoket/rvl_cdip_package.pdf/pages/1/parsedText.json\u001b[0m\n",
      "\u001b[32m2025-02-26 21:29:13.940\u001b[0m | \u001b[34m\u001b[1mDEBUG   \u001b[0m | \u001b[36midp_cli.service.smoketest_service\u001b[0m:\u001b[36mverify_result\u001b[0m:\u001b[36m122\u001b[0m - \u001b[34m\u001b[1mSmoke test verification passed!\u001b[0m\n",
      "\u001b[32m2025-02-26 21:29:13.942\u001b[0m | \u001b[34m\u001b[1mDEBUG   \u001b[0m | \u001b[36midp_cli.service.smoketest_service\u001b[0m:\u001b[36mdo_smoketest\u001b[0m:\u001b[36m148\u001b[0m - \u001b[34m\u001b[1mSmoke test completed successfully!\u001b[0m\n"
     ]
    },
    {
     "data": {
      "text/plain": [
       "True"
      ]
     },
     "execution_count": 3,
     "metadata": {},
     "output_type": "execute_result"
    }
   ],
   "source": [
    "service.do_smoketest()"
   ]
  },
  {
   "cell_type": "code",
   "execution_count": null,
   "metadata": {},
   "outputs": [],
   "source": []
  }
 ],
 "metadata": {
  "kernelspec": {
   "display_name": "idp",
   "language": "python",
   "name": "python3"
  },
  "language_info": {
   "codemirror_mode": {
    "name": "ipython",
    "version": 3
   },
   "file_extension": ".py",
   "mimetype": "text/x-python",
   "name": "python",
   "nbconvert_exporter": "python",
   "pygments_lexer": "ipython3",
   "version": "3.13.2"
  }
 },
 "nbformat": 4,
 "nbformat_minor": 2
}
