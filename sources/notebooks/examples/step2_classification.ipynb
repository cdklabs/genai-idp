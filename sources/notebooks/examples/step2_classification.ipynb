{
 "cells": [
  {
   "cell_type": "markdown",
   "metadata": {},
   "source": [
    "# Step 2: Multimodal Page Classification with Boundary Detection\n",
    "\n",
    "This notebook demonstrates how to classify document pages and detect page-level document boundaries using the `multimodalPageLevelClassification` method.\n",
    "\n",
    "**Key Features:**\n",
    "- Multimodal classification using both text and images\n",
    "- Document boundary detection (start/continue)\n",
    "- Section creation based on both document type changes AND boundary markers\n",
    "\n",
    "**Inputs:**\n",
    "- Document object with OCR results from Step 1\n",
    "- Configuration with boundary detection enabled\n",
    "\n",
    "**Outputs:**\n",
    "- Document with classifications and boundary markers\n",
    "- Sections respecting document boundaries"
   ]
  },
  {
   "cell_type": "markdown",
   "metadata": {},
   "source": [
    "## 1. Load Libraries and Configure Logging"
   ]
  },
  {
   "cell_type": "code",
   "execution_count": 1,
   "metadata": {},
   "outputs": [
    {
     "name": "stdout",
     "output_type": "stream",
     "text": [
      "Libraries imported successfully\n"
     ]
    }
   ],
   "source": [
    "import os\n",
    "import json\n",
    "import yaml\n",
    "import time\n",
    "import logging\n",
    "from pathlib import Path\n",
    "\n",
    "# Import IDP libraries\n",
    "from idp_common.classification.service import ClassificationService\n",
    "from idp_common.models import Document, Status\n",
    "\n",
    "# Configure logging\n",
    "logging.basicConfig(level=logging.WARNING)\n",
    "logging.getLogger('idp_common.classification').setLevel(logging.INFO)\n",
    "logging.getLogger('idp_common.bedrock.client').setLevel(logging.INFO)\n",
    "\n",
    "print(\"Libraries imported successfully\")"
   ]
  },
  {
   "cell_type": "markdown",
   "metadata": {},
   "source": [
    "## 2. Load OCR Output and Configuration"
   ]
  },
  {
   "cell_type": "code",
   "execution_count": 2,
   "metadata": {},
   "outputs": [
    {
     "name": "stdout",
     "output_type": "stream",
     "text": [
      "Loaded document: bank_statement\n",
      "Number of pages: 6\n",
      "Loaded classification.yaml\n",
      "Loaded classes.yaml\n",
      "\n",
      "Classification Configuration:\n",
      "Method: multimodalPageLevelClassification\n",
      "Model: us.amazon.nova-pro-v1:0\n",
      "Temperature: 0.0\n",
      "\n",
      "Available Document Classes: 6\n",
      "- Payslip: An employee wage statement showing earnings, deductions, taxes, and net pay for a specific pay perio...\n",
      "- US-drivers-licenses: An official government-issued identification document that authorizes an individual to operate  moto...\n",
      "- Bank-checks: A written financial instrument directing a bank to pay a specific amount of money from  the account ...\n",
      "- Bank-Statement: A periodic financial document issued by banks detailing account activity, balances,  and transaction...\n",
      "- W2: An annual tax document provided by employers to employees reporting wages earned and  taxes withheld...\n",
      "- Homeowners-Insurance-Application: An application form for homeowners insurance coverage containing applicant personal information,  pr...\n"
     ]
    }
   ],
   "source": [
    "# Load OCR output from Step 1\n",
    "examples_dir = Path.cwd()\n",
    "ocr_data_path = examples_dir / 'data' / 'ocr_output.json'\n",
    "\n",
    "# Check if OCR output exists\n",
    "if not ocr_data_path.exists():\n",
    "    # Try alternative path from step1_ocr\n",
    "    ocr_data_path = examples_dir / '.data' / 'step1_ocr' / 'document.json'\n",
    "    \n",
    "if not ocr_data_path.exists():\n",
    "    raise FileNotFoundError(f\"OCR output not found at {ocr_data_path}\")\n",
    "\n",
    "with open(ocr_data_path) as f:\n",
    "    doc_data = json.load(f)\n",
    "    \n",
    "# Convert to Document object\n",
    "if isinstance(doc_data, str):\n",
    "    document = Document.from_json(doc_data)\n",
    "else:\n",
    "    document = Document.from_dict(doc_data) if 'id' in doc_data else Document.from_json(json.dumps(doc_data))\n",
    "\n",
    "print(f\"Loaded document: {document.id}\")\n",
    "print(f\"Number of pages: {document.num_pages}\")\n",
    "\n",
    "# Load configuration directly from config files\n",
    "config_dir = Path(\"config\")\n",
    "CONFIG = {}\n",
    "\n",
    "# Load each configuration file\n",
    "config_files = [\n",
    "    \"classification.yaml\", \n",
    "    \"classes.yaml\"\n",
    "]\n",
    "\n",
    "for config_file in config_files:\n",
    "    config_path = config_dir / config_file\n",
    "    if config_path.exists():\n",
    "        with open(config_path, 'r') as f:\n",
    "            file_config = yaml.safe_load(f)\n",
    "            CONFIG.update(file_config)\n",
    "        print(f\"Loaded {config_file}\")\n",
    "    else:\n",
    "        print(f\"Warning: {config_file} not found\")\n",
    "\n",
    "# Use CONFIG as the main config object\n",
    "config = CONFIG\n",
    "\n",
    "# Load environment info from previous step\n",
    "env_path = ocr_data_path.parent / \"environment.json\"\n",
    "with open(env_path, 'r') as f:\n",
    "    env_info = json.load(f)\n",
    "\n",
    "# Display configuration details\n",
    "classification_config = config.get('classification', {})\n",
    "print(\"\\nClassification Configuration:\")\n",
    "print(f\"Method: {classification_config.get('classificationMethod')}\")\n",
    "print(f\"Model: {classification_config.get('model', config.get('model_id'))}\")\n",
    "print(f\"Temperature: {classification_config.get('temperature')}\")\n",
    "\n",
    "# Display available document classes\n",
    "classes = config.get('classes', [])\n",
    "print(f\"\\nAvailable Document Classes: {len(classes)}\")\n",
    "for cls in classes:\n",
    "    print(f\"- {cls['name']}: {cls['description'][:100]}...\")"
   ]
  },
  {
   "cell_type": "markdown",
   "metadata": {},
   "source": [
    "## 3. Initialize Classification Service"
   ]
  },
  {
   "cell_type": "code",
   "execution_count": 3,
   "metadata": {},
   "outputs": [
    {
     "name": "stderr",
     "output_type": "stream",
     "text": [
      "INFO:idp_common.classification.service:Classification caching disabled\n",
      "INFO:idp_common.classification.service:Initialized classification service with Bedrock backend using model us.amazon.nova-pro-v1:0\n",
      "INFO:idp_common.classification.service:Using multimodal page-level classification method with document boundary detection\n"
     ]
    },
    {
     "name": "stdout",
     "output_type": "stream",
     "text": [
      "Classification service initialized\n",
      "Using method: multimodalPageLevelClassification\n"
     ]
    }
   ],
   "source": [
    "# Set AWS region if not already set\n",
    "if 'AWS_REGION' not in os.environ:\n",
    "    os.environ['AWS_REGION'] = 'us-west-2'\n",
    "\n",
    "# Create classification service\n",
    "service = ClassificationService(\n",
    "    region=os.environ.get('AWS_REGION', 'us-west-2'), \n",
    "    config=config,\n",
    "    backend='bedrock'  # Using Bedrock for multimodal classification\n",
    ")\n",
    "\n",
    "print(\"Classification service initialized\")\n",
    "print(f\"Using method: {service.classification_method}\")"
   ]
  },
  {
   "cell_type": "markdown",
   "metadata": {},
   "source": [
    "## 4. Classify Document with Boundary Detection"
   ]
  },
  {
   "cell_type": "code",
   "execution_count": 4,
   "metadata": {},
   "outputs": [
    {
     "name": "stderr",
     "output_type": "stream",
     "text": [
      "INFO:idp_common.classification.service:Classifying document with 6 pages using multimodal page-level classification with bedrock backend\n",
      "INFO:idp_common.classification.service:Attempting to retrieve cached page classifications for document bank_statement\n",
      "INFO:idp_common.classification.service:Found 0 cached page classifications, classifying 6 remaining pages\n"
     ]
    },
    {
     "name": "stdout",
     "output_type": "stream",
     "text": [
      "\n",
      "Classifying document with boundary detection...\n"
     ]
    },
    {
     "name": "stderr",
     "output_type": "stream",
     "text": [
      "INFO:idp_common.classification.service:Classifying page 1 with Bedrock\n",
      "INFO:idp_common.classification.service:Classifying page 5 with Bedrock\n",
      "INFO:idp_common.classification.service:Classifying page 4 with Bedrock\n",
      "INFO:idp_common.classification.service:Classifying page 2 with Bedrock\n",
      "INFO:idp_common.classification.service:Classifying page 3 with Bedrock\n",
      "INFO:idp_common.classification.service:Classifying page 6 with Bedrock\n",
      "INFO:idp_common.bedrock.client:Processed content with 1 cachepoint insertions\n",
      "INFO:idp_common.bedrock.client:Applied cachePoint processing for supported model: us.amazon.nova-pro-v1:0\n",
      "INFO:idp_common.bedrock.client:Bedrock request attempt 1/7:\n",
      "INFO:idp_common.bedrock.client:  - model: us.amazon.nova-pro-v1:0\n",
      "INFO:idp_common.bedrock.client:  - inferenceConfig: {'temperature': 0.0, 'topP': 0.1, 'maxTokens': 4096}\n",
      "INFO:idp_common.bedrock.client:  - system: [{'text': 'You are a multimodal document classification expert that analyzes business documents using both visual layout and textual content. Your task is to classify single-page documents into predefined categories based on their structural patterns, visual features, and text content. Your output must be valid JSON according to the requested format.\\n<variables> <document-ocr-data>: OCR-extracted text content from the document page that provides textual information for classification <document-image>: Visual representation of the document page that provides layout, formatting, and visual structure information <document-types>: List of valid document types with their descriptions that the document must be classified into </variables>'}]\n",
      "INFO:idp_common.bedrock.client:  - messages: [{'role': 'user', 'content': [{'text': '<task-description> Analyze the provided document using both its visual layout and textual content to determine its document type and whether this page begins a new document or continues the previous one. </task-description>\\n<document-types> Payslip  \\t[ An employee wage statement showing earnings, deductions, taxes, and net pay for a specific pay period,  typically issued by employers to document compensation details including gross pay, various tax withholdings,  and year-to-date totals. ]\\nUS-drivers-licenses  \\t[ An official government-issued identification document that authorizes an individual to operate  motor vehicles, containing personal information, physical characteristics, address details,  and driving privileges with restrictions and endorsements. ]\\nBank-checks  \\t[ A written financial instrument directing a bank to pay a specific amount of money from  the account holder\\'s account to a designated payee, containing payment details, account  information, and verification elements. ]\\nBank-Statement  \\t[ A periodic financial document issued by banks detailing account activity, balances,  and transactions over a specific time period, providing account holders with a summary  of their financial activity and current account status. ]\\nW2  \\t[ An annual tax document provided by employers to employees reporting wages earned and  taxes withheld during the tax year for federal and state income tax filing purposes,  containing comprehensive compensation and withholding information. ]\\nHomeowners-Insurance-Application  \\t[ An application form for homeowners insurance coverage containing applicant personal information,  property details, coverage requirements, existing insurance history, and underwriting data  necessary for evaluating risk and determining appropriate coverage terms. ] </document-types>\\n<classification-instructions> Follow these steps to classify the document: 1. Examine the visual layout: headers, logos, formatting, structure, and visual organization 2. Analyze the textual content: key phrases, terminology, purpose, and information type 3. Identify distinctive features that match the document type descriptions 4. Decide if this page starts a new document (output \"start\") or continues the previous document (output \"continue\") 5. Consider both visual and textual evidence together to determine the best match 6. CRITICAL: Only use document types explicitly listed in the <document-types> section </classification-instructions>\\n<output-format> {\\n  \"classification_reason\": \"Detailed reasoning including specific visual and textual evidence that led to this classification\",\\n  \"class\": \"exact_document_type_from_list\",\\n  \"document_boundary\": \"start or continue\"\\n} </output-format>\\n'}, {'cachePoint': {'type': 'default'}}, {'text': \"\\n<document-ocr-data> \\n\\nCO. FILE DEPT. CLOCK NUMBER ABC 126543 123456 12345 00000000 1 \\n\\n# Earnings Statement \\n\\nANY COMPANY CORP. 475 ANY AVENUE ANYTOWN, USA 10101 \\n\\nPeriod ending: 7/18/2008 Pay date: 7/25/2008 \\n\\nSocial Security Number: 987-65-4321 Taxable Marital Status: Married Exemptions/Allowances: Federal: 3, $25 Additional Tax State: 2 Local: 2 \\n\\nJOHN STILES 101 MAIN STREET ANYTOWN, USA 12345 \\n\\n\\n\\n| Earnings    | rate      | hours    | this period    | year to date    |\\n|-------------|-----------|----------|----------------|-----------------|\\n| Regular     | 10.00     | 32.00    | 320.00         | 16,640.00       |\\n| Overtime    | 15.00     | 1.00     | 15.00          | 780.00          |\\n| Holiday     | 10.00     | 8.00     | 80.00          | 4,160.00        |\\n| Tuition     |           |          | 37.43*         | 1,946.80        |\\n|             | Gross Pay |          | $ 452.43       | 23,526.80       |\\n|            |                     |         |          |\\n|------------|---------------------|---------|----------|\\n| Deductions | Statutory           |         |          |\\n|            | Federal Income Tax  | 40.60   | 2,111.20 |\\n|            | Social Security Tax | -28.05  | 1,458.60 |\\n|            | Medicare Tax        | 6.56    | 341.12   |\\n|            | NY State Income Tax | 8.43    | 438.36   |\\n|            | NYC Income Tax      | 5.94    | 308.88   |\\n|            | NY SUI/SDI Tax      | -0.60   | 31.20    |\\n|            | Other               |         |          |\\n|            | Bond                | -5.00   | 100.00   |\\n|            | 401(k)              | -28.85' | 1,500.20 |\\n|            | Stock Plan          | -15.00  | 150.00   |\\n|            | Life Insurance      | 5.00    | 50.00    |\\n|            | Loan                | - 30.00 | 150.00   |\\n|            | Adjustment          |         |          |\\n|            | Life Insurance      | + 13.50 |          |\\n|            | Net Pay             | $291.90 |          |\\n|            |                     |         |          |\\n. Excluded from federal taxable wages\\nYour federal wages this period are $386.15\\n\\n\\n\\n\\n\\n|                    |             |               |\\n|--------------------|-------------|---------------|\\n| Other Benefits and | this period |               |\\n| Information        |             | total to date |\\n| Group Term Life    | 0.51        | 27.00         |\\n| Loan Amt Paid      |             | 840.00        |\\n| Vac Hrs            |             | 40.00         |\\n| Sick Hrs           |             | 16.00         |\\n| Title              | Operator    |               |\\n\\n\\n\\nImportant Notes EFFECTIVE THIS PAY PERIOD YOUR REGULAR HOURLY RATE HAS BEEN CHANGED FROM $8.00 TO $10.00 PER HOUR. \\n\\nWE WILL BE STARTING OUR UNITED WAY FUND DRIVE SOON AND LOOK FORWARD TO YOUR PARTICIPATION. \\n\\n©2006 2001,2000 ADP. 1999 ADP, Inc. no. \\n\\nTEAR HERE  </document-ocr-data>\\n<document-image> \"}, {'image': '[image_data]'}, {'text': ' </document-image>\\n<final-instructions> Analyze the document above by: 1. Applying the <classification-instructions> to examine both visual and textual features 2. Selecting ONLY from document types in <document-types> 3. Providing clear reasoning with specific evidence 4. Outputting in the exact JSON format specified in <output-format> </final-instructions>'}]}]\n",
      "INFO:idp_common.bedrock.client:  - additionalModelRequestFields: {'inferenceConfig': {'topK': 5}}\n",
      "INFO:idp_common.bedrock.client:Processed content with 1 cachepoint insertions\n",
      "INFO:idp_common.bedrock.client:Applied cachePoint processing for supported model: us.amazon.nova-pro-v1:0\n",
      "INFO:idp_common.bedrock.client:Bedrock request attempt 1/7:\n",
      "INFO:idp_common.bedrock.client:  - model: us.amazon.nova-pro-v1:0\n",
      "INFO:idp_common.bedrock.client:  - inferenceConfig: {'temperature': 0.0, 'topP': 0.1, 'maxTokens': 4096}\n",
      "INFO:idp_common.bedrock.client:  - system: [{'text': 'You are a multimodal document classification expert that analyzes business documents using both visual layout and textual content. Your task is to classify single-page documents into predefined categories based on their structural patterns, visual features, and text content. Your output must be valid JSON according to the requested format.\\n<variables> <document-ocr-data>: OCR-extracted text content from the document page that provides textual information for classification <document-image>: Visual representation of the document page that provides layout, formatting, and visual structure information <document-types>: List of valid document types with their descriptions that the document must be classified into </variables>'}]\n",
      "INFO:idp_common.bedrock.client:  - messages: [{'role': 'user', 'content': [{'text': '<task-description> Analyze the provided document using both its visual layout and textual content to determine its document type and whether this page begins a new document or continues the previous one. </task-description>\\n<document-types> Payslip  \\t[ An employee wage statement showing earnings, deductions, taxes, and net pay for a specific pay period,  typically issued by employers to document compensation details including gross pay, various tax withholdings,  and year-to-date totals. ]\\nUS-drivers-licenses  \\t[ An official government-issued identification document that authorizes an individual to operate  motor vehicles, containing personal information, physical characteristics, address details,  and driving privileges with restrictions and endorsements. ]\\nBank-checks  \\t[ A written financial instrument directing a bank to pay a specific amount of money from  the account holder\\'s account to a designated payee, containing payment details, account  information, and verification elements. ]\\nBank-Statement  \\t[ A periodic financial document issued by banks detailing account activity, balances,  and transactions over a specific time period, providing account holders with a summary  of their financial activity and current account status. ]\\nW2  \\t[ An annual tax document provided by employers to employees reporting wages earned and  taxes withheld during the tax year for federal and state income tax filing purposes,  containing comprehensive compensation and withholding information. ]\\nHomeowners-Insurance-Application  \\t[ An application form for homeowners insurance coverage containing applicant personal information,  property details, coverage requirements, existing insurance history, and underwriting data  necessary for evaluating risk and determining appropriate coverage terms. ] </document-types>\\n<classification-instructions> Follow these steps to classify the document: 1. Examine the visual layout: headers, logos, formatting, structure, and visual organization 2. Analyze the textual content: key phrases, terminology, purpose, and information type 3. Identify distinctive features that match the document type descriptions 4. Decide if this page starts a new document (output \"start\") or continues the previous document (output \"continue\") 5. Consider both visual and textual evidence together to determine the best match 6. CRITICAL: Only use document types explicitly listed in the <document-types> section </classification-instructions>\\n<output-format> {\\n  \"classification_reason\": \"Detailed reasoning including specific visual and textual evidence that led to this classification\",\\n  \"class\": \"exact_document_type_from_list\",\\n  \"document_boundary\": \"start or continue\"\\n} </output-format>\\n'}, {'cachePoint': {'type': 'default'}}, {'text': \"\\n<document-ocr-data> OMB No. 1545-0008\\n\\nb Employer identification number (EIN)\\n\\n4963147952\\n\\nc Employer's name, address, and ZIP code\\n\\nJohn Stiles\\n 100 Main Street, Anytown, USA\\n\\nd Control number\\n\\n753951852\\n\\ne Employee's first name and initial\\nLast name\\nSuff.\\n\\nArnav\\nDesai\\nM\\n\\n123 Any Street, Any Town, USA\\n\\nf Employee's address and ZIP code\\n\\n\\n\\n\\n|                                   |       |    |                 |                      |    |    |                                |          |\\n|-----------------------------------|-------|----|-----------------|----------------------|----|----|--------------------------------|----------|\\n| 1 Wages, tips, other compensation |       |    |                 |                      |    |    | 2 Federal income tax withheld  |          |\\n| $100.00                           |       |    |                 |                      |    |    | $500.00                        |          |\\n| 3 Social security wages           |       |    |                 |                      |    |    | 4 Social security tax withheld |          |\\n| $1000.00                          |       |    |                 |                      |    |    | $100.00                        |          |\\n| 5 Medicare wages and tips         |       |    |                 |                      |    |    | 6 Medicare tax withheld        |          |\\n| $500.00                           |       |    |                 |                      |    |    | $5000.00                       |          |\\n| 7 Social security tips            |       |    |                 |                      |    |    | 8 Allocated tips               |          |\\n| $500.00                           |       |    |                 |                      |    |    | $150.00                        |          |\\n| 9                                 |       |    |                 |                      |    |    | 10 Dependent care benefits     |          |\\n|                                   |       |    |                 |                      |    |    | $5000.00                       |          |\\n| 11 Nonqualified plans             |       |    |                 |                      |    |    | 12a                            | $500.00  |\\n| $500.00                           |       |    |                 |                      |    |    | **** A                         |          |\\n| 13 Statutory employee             |       |    | Retirement plan | Third-party sick pay |    |    | 12b **** C                     | $1500.00 |\\n| [X]                               |       |    | [ ]             | [ ]                  |    |    |                                |          |\\n| 14                                | Other |    |                 |                      |    |    | 12c **** A                     | $500.00  |\\n| NA                                |       |    |                 |                      |    |    | 12d **** B                     | $1000.00 |\\n|                                   |       |    |                 |                      |    |    |                                |          |\\n\\n\\n\\n\\n\\n| 15 State    | Employer's state ID number    | 16 State wages, tips, etc.    | 17 State income tax    | 18 Local wages, tips, etc.    | 19 Local income tax    | 20 Locality name    |\\n|-------------|-------------------------------|-------------------------------|------------------------|-------------------------------|------------------------|---------------------|\\n|             |                               |                               |                        |                               |                        |                     |\\n| Any Town    | 7414568313                    | $50.00                        | $500.00                | $100.00                       | $550.00                | Any Town            |\\n\\n\\n\\n22222 \\n\\na Employee's social security number 75395184613 \\n\\nForm\\nW-2 Wage and Tax Statement\\n\\n\\n2022\\n\\n\\nCopy 1-For State, City, or Local Tax Department\\n\\n\\nDepartment of XYZ Organaization\\n </document-ocr-data>\\n<document-image> \"}, {'image': '[image_data]'}, {'text': ' </document-image>\\n<final-instructions> Analyze the document above by: 1. Applying the <classification-instructions> to examine both visual and textual features 2. Selecting ONLY from document types in <document-types> 3. Providing clear reasoning with specific evidence 4. Outputting in the exact JSON format specified in <output-format> </final-instructions>'}]}]\n",
      "INFO:idp_common.bedrock.client:  - additionalModelRequestFields: {'inferenceConfig': {'topK': 5}}\n",
      "INFO:idp_common.bedrock.client:Processed content with 1 cachepoint insertions\n",
      "INFO:idp_common.bedrock.client:Applied cachePoint processing for supported model: us.amazon.nova-pro-v1:0\n",
      "INFO:idp_common.bedrock.client:Bedrock request attempt 1/7:\n",
      "INFO:idp_common.bedrock.client:  - model: us.amazon.nova-pro-v1:0\n",
      "INFO:idp_common.bedrock.client:  - inferenceConfig: {'temperature': 0.0, 'topP': 0.1, 'maxTokens': 4096}\n",
      "INFO:idp_common.bedrock.client:  - system: [{'text': 'You are a multimodal document classification expert that analyzes business documents using both visual layout and textual content. Your task is to classify single-page documents into predefined categories based on their structural patterns, visual features, and text content. Your output must be valid JSON according to the requested format.\\n<variables> <document-ocr-data>: OCR-extracted text content from the document page that provides textual information for classification <document-image>: Visual representation of the document page that provides layout, formatting, and visual structure information <document-types>: List of valid document types with their descriptions that the document must be classified into </variables>'}]\n",
      "INFO:idp_common.bedrock.client:  - messages: [{'role': 'user', 'content': [{'text': '<task-description> Analyze the provided document using both its visual layout and textual content to determine its document type and whether this page begins a new document or continues the previous one. </task-description>\\n<document-types> Payslip  \\t[ An employee wage statement showing earnings, deductions, taxes, and net pay for a specific pay period,  typically issued by employers to document compensation details including gross pay, various tax withholdings,  and year-to-date totals. ]\\nUS-drivers-licenses  \\t[ An official government-issued identification document that authorizes an individual to operate  motor vehicles, containing personal information, physical characteristics, address details,  and driving privileges with restrictions and endorsements. ]\\nBank-checks  \\t[ A written financial instrument directing a bank to pay a specific amount of money from  the account holder\\'s account to a designated payee, containing payment details, account  information, and verification elements. ]\\nBank-Statement  \\t[ A periodic financial document issued by banks detailing account activity, balances,  and transactions over a specific time period, providing account holders with a summary  of their financial activity and current account status. ]\\nW2  \\t[ An annual tax document provided by employers to employees reporting wages earned and  taxes withheld during the tax year for federal and state income tax filing purposes,  containing comprehensive compensation and withholding information. ]\\nHomeowners-Insurance-Application  \\t[ An application form for homeowners insurance coverage containing applicant personal information,  property details, coverage requirements, existing insurance history, and underwriting data  necessary for evaluating risk and determining appropriate coverage terms. ] </document-types>\\n<classification-instructions> Follow these steps to classify the document: 1. Examine the visual layout: headers, logos, formatting, structure, and visual organization 2. Analyze the textual content: key phrases, terminology, purpose, and information type 3. Identify distinctive features that match the document type descriptions 4. Decide if this page starts a new document (output \"start\") or continues the previous document (output \"continue\") 5. Consider both visual and textual evidence together to determine the best match 6. CRITICAL: Only use document types explicitly listed in the <document-types> section </classification-instructions>\\n<output-format> {\\n  \"classification_reason\": \"Detailed reasoning including specific visual and textual evidence that led to this classification\",\\n  \"class\": \"exact_document_type_from_list\",\\n  \"document_boundary\": \"start or continue\"\\n} </output-format>\\n'}, {'cachePoint': {'type': 'default'}}, {'text': '\\n<document-ocr-data> # ACCOUNT STATEMENT \\n\\nYOUR DETAILS \\n\\nJane Doe 100 Main Street, Anytown, USA 555-0100 \\n\\n\\n\\n|                  |                           |\\n|------------------|---------------------------|\\n| Statement Period | 1 MAY 2021 to 31 MAY 2021 |\\n| Account Number   | 333 008755555             |\\n| Account Name     | Jane Doe                  |\\n| Email Address    | Not Recorded              |\\n\\n\\n\\n\\n\\n|                                                |             |\\n|------------------------------------------------|-------------|\\n| Your Account Balance                           |             |\\n| Your opening account balance as at 1 MAY 2021  | $50,000.00  |\\n| Your closing account balance as at 31 MAY 2021 | $123,084.85 |\\n\\n\\n\\n\\n\\n|                           |             |             |              |            |        |\\n|---------------------------|-------------|-------------|--------------|------------|--------|\\n| Your account valuation    |             |             |              |            |        |\\n| Investment option name    | Option code | Units       | Unit Price $ | Value $    | %      |\\n| BT Active Balanced        | 210         | 1,3297.9090 | 1,300        | 17,287.28  | 40     |\\n| First choice moderate     | 080         | 2,3000.5678 | 100          | 23,005.68  | 30     |\\n| First choice Lifestaged   | 010         | 7,100.9876  | 900          | 63,908.89  | 20     |\\n| 2001-09                   |             |             |              |            |        |\\n| Perpetual Balanced growth | 021         | 8,210.0021  | 230          | 18,883.00  | 10     |\\n| Account value             |             |             |              | 123,084.85 | 100.00 |\\n\\n\\n\\nYour insurance details \\n\\n\\n\\n| Benefit Type                             | Insurance cover amount $    | Benefit amount $    |\\n|------------------------------------------|-----------------------------|---------------------|\\n| Amount paid on Death of Terminal illness | 10,000.00                   | 17,000.00           |\\n| Amount paid upon Total and Permanent     | 10,000.00                   | 17,000.00           |\\n| Disablement                              |                             |                     |\\n\\n </document-ocr-data>\\n<document-image> '}, {'image': '[image_data]'}, {'text': ' </document-image>\\n<final-instructions> Analyze the document above by: 1. Applying the <classification-instructions> to examine both visual and textual features 2. Selecting ONLY from document types in <document-types> 3. Providing clear reasoning with specific evidence 4. Outputting in the exact JSON format specified in <output-format> </final-instructions>'}]}]\n",
      "INFO:idp_common.bedrock.client:  - additionalModelRequestFields: {'inferenceConfig': {'topK': 5}}\n",
      "INFO:idp_common.bedrock.client:Processed content with 1 cachepoint insertions\n",
      "INFO:idp_common.bedrock.client:Applied cachePoint processing for supported model: us.amazon.nova-pro-v1:0\n",
      "INFO:idp_common.bedrock.client:Bedrock request attempt 1/7:\n",
      "INFO:idp_common.bedrock.client:  - model: us.amazon.nova-pro-v1:0\n",
      "INFO:idp_common.bedrock.client:  - inferenceConfig: {'temperature': 0.0, 'topP': 0.1, 'maxTokens': 4096}\n",
      "INFO:idp_common.bedrock.client:  - system: [{'text': 'You are a multimodal document classification expert that analyzes business documents using both visual layout and textual content. Your task is to classify single-page documents into predefined categories based on their structural patterns, visual features, and text content. Your output must be valid JSON according to the requested format.\\n<variables> <document-ocr-data>: OCR-extracted text content from the document page that provides textual information for classification <document-image>: Visual representation of the document page that provides layout, formatting, and visual structure information <document-types>: List of valid document types with their descriptions that the document must be classified into </variables>'}]\n",
      "INFO:idp_common.bedrock.client:  - messages: [{'role': 'user', 'content': [{'text': '<task-description> Analyze the provided document using both its visual layout and textual content to determine its document type and whether this page begins a new document or continues the previous one. </task-description>\\n<document-types> Payslip  \\t[ An employee wage statement showing earnings, deductions, taxes, and net pay for a specific pay period,  typically issued by employers to document compensation details including gross pay, various tax withholdings,  and year-to-date totals. ]\\nUS-drivers-licenses  \\t[ An official government-issued identification document that authorizes an individual to operate  motor vehicles, containing personal information, physical characteristics, address details,  and driving privileges with restrictions and endorsements. ]\\nBank-checks  \\t[ A written financial instrument directing a bank to pay a specific amount of money from  the account holder\\'s account to a designated payee, containing payment details, account  information, and verification elements. ]\\nBank-Statement  \\t[ A periodic financial document issued by banks detailing account activity, balances,  and transactions over a specific time period, providing account holders with a summary  of their financial activity and current account status. ]\\nW2  \\t[ An annual tax document provided by employers to employees reporting wages earned and  taxes withheld during the tax year for federal and state income tax filing purposes,  containing comprehensive compensation and withholding information. ]\\nHomeowners-Insurance-Application  \\t[ An application form for homeowners insurance coverage containing applicant personal information,  property details, coverage requirements, existing insurance history, and underwriting data  necessary for evaluating risk and determining appropriate coverage terms. ] </document-types>\\n<classification-instructions> Follow these steps to classify the document: 1. Examine the visual layout: headers, logos, formatting, structure, and visual organization 2. Analyze the textual content: key phrases, terminology, purpose, and information type 3. Identify distinctive features that match the document type descriptions 4. Decide if this page starts a new document (output \"start\") or continues the previous document (output \"continue\") 5. Consider both visual and textual evidence together to determine the best match 6. CRITICAL: Only use document types explicitly listed in the <document-types> section </classification-instructions>\\n<output-format> {\\n  \"classification_reason\": \"Detailed reasoning including specific visual and textual evidence that led to this classification\",\\n  \"class\": \"exact_document_type_from_list\",\\n  \"document_boundary\": \"start or continue\"\\n} </output-format>\\n'}, {'cachePoint': {'type': 'default'}}, {'text': '\\n<document-ocr-data> # UNITED STATES \\n\\nDRIVER LICENSE \\n\\nEXPIRES 09/21/2034 \\n\\nDL 6383736743891101 \\n\\n\\n\\nLN DOE FN JOHN 123 ANY STREET ANY CITY, CA 92127 \\n\\nDOB 09/21/1970 SSN ON FILE \\n\\n\\n\\n\\n\\nDONOR SEX M HAIR BLK EYES BLU HGT 5\\'11\" WGT 185LB US 11/05/2001266737RP/AMER/19 \\n\\nCLASS C END NONE  </document-ocr-data>\\n<document-image> '}, {'image': '[image_data]'}, {'text': ' </document-image>\\n<final-instructions> Analyze the document above by: 1. Applying the <classification-instructions> to examine both visual and textual features 2. Selecting ONLY from document types in <document-types> 3. Providing clear reasoning with specific evidence 4. Outputting in the exact JSON format specified in <output-format> </final-instructions>'}]}]\n",
      "INFO:idp_common.bedrock.client:  - additionalModelRequestFields: {'inferenceConfig': {'topK': 5}}\n",
      "INFO:idp_common.bedrock.client:Processed content with 1 cachepoint insertions\n",
      "INFO:idp_common.bedrock.client:Applied cachePoint processing for supported model: us.amazon.nova-pro-v1:0\n",
      "INFO:idp_common.bedrock.client:Bedrock request attempt 1/7:\n",
      "INFO:idp_common.bedrock.client:  - model: us.amazon.nova-pro-v1:0\n",
      "INFO:idp_common.bedrock.client:  - inferenceConfig: {'temperature': 0.0, 'topP': 0.1, 'maxTokens': 4096}\n",
      "INFO:idp_common.bedrock.client:  - system: [{'text': 'You are a multimodal document classification expert that analyzes business documents using both visual layout and textual content. Your task is to classify single-page documents into predefined categories based on their structural patterns, visual features, and text content. Your output must be valid JSON according to the requested format.\\n<variables> <document-ocr-data>: OCR-extracted text content from the document page that provides textual information for classification <document-image>: Visual representation of the document page that provides layout, formatting, and visual structure information <document-types>: List of valid document types with their descriptions that the document must be classified into </variables>'}]\n",
      "INFO:idp_common.bedrock.client:  - messages: [{'role': 'user', 'content': [{'text': '<task-description> Analyze the provided document using both its visual layout and textual content to determine its document type and whether this page begins a new document or continues the previous one. </task-description>\\n<document-types> Payslip  \\t[ An employee wage statement showing earnings, deductions, taxes, and net pay for a specific pay period,  typically issued by employers to document compensation details including gross pay, various tax withholdings,  and year-to-date totals. ]\\nUS-drivers-licenses  \\t[ An official government-issued identification document that authorizes an individual to operate  motor vehicles, containing personal information, physical characteristics, address details,  and driving privileges with restrictions and endorsements. ]\\nBank-checks  \\t[ A written financial instrument directing a bank to pay a specific amount of money from  the account holder\\'s account to a designated payee, containing payment details, account  information, and verification elements. ]\\nBank-Statement  \\t[ A periodic financial document issued by banks detailing account activity, balances,  and transactions over a specific time period, providing account holders with a summary  of their financial activity and current account status. ]\\nW2  \\t[ An annual tax document provided by employers to employees reporting wages earned and  taxes withheld during the tax year for federal and state income tax filing purposes,  containing comprehensive compensation and withholding information. ]\\nHomeowners-Insurance-Application  \\t[ An application form for homeowners insurance coverage containing applicant personal information,  property details, coverage requirements, existing insurance history, and underwriting data  necessary for evaluating risk and determining appropriate coverage terms. ] </document-types>\\n<classification-instructions> Follow these steps to classify the document: 1. Examine the visual layout: headers, logos, formatting, structure, and visual organization 2. Analyze the textual content: key phrases, terminology, purpose, and information type 3. Identify distinctive features that match the document type descriptions 4. Decide if this page starts a new document (output \"start\") or continues the previous document (output \"continue\") 5. Consider both visual and textual evidence together to determine the best match 6. CRITICAL: Only use document types explicitly listed in the <document-types> section </classification-instructions>\\n<output-format> {\\n  \"classification_reason\": \"Detailed reasoning including specific visual and textual evidence that led to this classification\",\\n  \"class\": \"exact_document_type_from_list\",\\n  \"document_boundary\": \"start or continue\"\\n} </output-format>\\n'}, {'cachePoint': {'type': 'default'}}, {'text': '\\n<document-ocr-data> ESTS88103 \\n\\n\\n\\n|                       |             |\\n|-----------------------|-------------|\\n| Payroll check number: | 0000000000  |\\n| Pay date:             | 7/25/2008   |\\n| Social Security No.   | 987-65-4321 |\\n\\n\\n\\nANY COMPANY CORP.\\n 475 ANY AVENUE\\n ANYTOWN, USA 10101\\n\\nSAMPLE\\n NON-NEGOTIABLE\\n\\nBANK NAME\\nVOID VOID VOID\\n STREET ADDRESS\\nAUTHORIZED VOID autharized AFTER DO DAYS Signature\\n[SIGNATURE]\\n CITY STATE ZIP\\n\\n⑈001379⑈ ⑆122000496⑆4040110157⑈\\n\\n\\n\\n\\n|                      |                                           |         |\\n|----------------------|-------------------------------------------|---------|\\n| Pay to the order of: | JOHN STILES                               |         |\\n| This amount:         | TWO HUNDRED NINETY-ONE AND 90/100 DOLLARS | $291.90 |\\n\\n\\n\\n </document-ocr-data>\\n<document-image> '}, {'image': '[image_data]'}, {'text': ' </document-image>\\n<final-instructions> Analyze the document above by: 1. Applying the <classification-instructions> to examine both visual and textual features 2. Selecting ONLY from document types in <document-types> 3. Providing clear reasoning with specific evidence 4. Outputting in the exact JSON format specified in <output-format> </final-instructions>'}]}]\n",
      "INFO:idp_common.bedrock.client:  - additionalModelRequestFields: {'inferenceConfig': {'topK': 5}}\n",
      "INFO:idp_common.bedrock.client:Processed content with 1 cachepoint insertions\n",
      "INFO:idp_common.bedrock.client:Applied cachePoint processing for supported model: us.amazon.nova-pro-v1:0\n",
      "INFO:idp_common.bedrock.client:Bedrock request attempt 1/7:\n",
      "INFO:idp_common.bedrock.client:  - model: us.amazon.nova-pro-v1:0\n",
      "INFO:idp_common.bedrock.client:  - inferenceConfig: {'temperature': 0.0, 'topP': 0.1, 'maxTokens': 4096}\n",
      "INFO:idp_common.bedrock.client:  - system: [{'text': 'You are a multimodal document classification expert that analyzes business documents using both visual layout and textual content. Your task is to classify single-page documents into predefined categories based on their structural patterns, visual features, and text content. Your output must be valid JSON according to the requested format.\\n<variables> <document-ocr-data>: OCR-extracted text content from the document page that provides textual information for classification <document-image>: Visual representation of the document page that provides layout, formatting, and visual structure information <document-types>: List of valid document types with their descriptions that the document must be classified into </variables>'}]\n",
      "INFO:idp_common.bedrock.client:  - messages: [{'role': 'user', 'content': [{'text': '<task-description> Analyze the provided document using both its visual layout and textual content to determine its document type and whether this page begins a new document or continues the previous one. </task-description>\\n<document-types> Payslip  \\t[ An employee wage statement showing earnings, deductions, taxes, and net pay for a specific pay period,  typically issued by employers to document compensation details including gross pay, various tax withholdings,  and year-to-date totals. ]\\nUS-drivers-licenses  \\t[ An official government-issued identification document that authorizes an individual to operate  motor vehicles, containing personal information, physical characteristics, address details,  and driving privileges with restrictions and endorsements. ]\\nBank-checks  \\t[ A written financial instrument directing a bank to pay a specific amount of money from  the account holder\\'s account to a designated payee, containing payment details, account  information, and verification elements. ]\\nBank-Statement  \\t[ A periodic financial document issued by banks detailing account activity, balances,  and transactions over a specific time period, providing account holders with a summary  of their financial activity and current account status. ]\\nW2  \\t[ An annual tax document provided by employers to employees reporting wages earned and  taxes withheld during the tax year for federal and state income tax filing purposes,  containing comprehensive compensation and withholding information. ]\\nHomeowners-Insurance-Application  \\t[ An application form for homeowners insurance coverage containing applicant personal information,  property details, coverage requirements, existing insurance history, and underwriting data  necessary for evaluating risk and determining appropriate coverage terms. ] </document-types>\\n<classification-instructions> Follow these steps to classify the document: 1. Examine the visual layout: headers, logos, formatting, structure, and visual organization 2. Analyze the textual content: key phrases, terminology, purpose, and information type 3. Identify distinctive features that match the document type descriptions 4. Decide if this page starts a new document (output \"start\") or continues the previous document (output \"continue\") 5. Consider both visual and textual evidence together to determine the best match 6. CRITICAL: Only use document types explicitly listed in the <document-types> section </classification-instructions>\\n<output-format> {\\n  \"classification_reason\": \"Detailed reasoning including specific visual and textual evidence that led to this classification\",\\n  \"class\": \"exact_document_type_from_list\",\\n  \"document_boundary\": \"start or continue\"\\n} </output-format>\\n'}, {'cachePoint': {'type': 'default'}}, {'text': \"\\n<document-ocr-data> # Homeowners Insurance Application \\n\\nNamed Insured(s) and Mailing Address Ziggy Starpixel, 42 Rainbow Sparkle Boulevard Unicornville, NV 12345 \\n\\nInsurance Company Fake Insurance Co 650 Davis Street San Francisco, CA 94111 \\n\\nPrimary Email: rainbow.unicorn987654@fakeemail.nowhere Primary Phone #: 555 555 1212 Alternate Phone #: 555 555 1213 \\n\\nInsured Property 42 Rainbow Sparkle Boulevard Unicornville, NV 12345 \\n\\n## NOTICE OF INSURANCE INFORMATION PRACTICES \\n\\nIn some insurance transactions, we may not be able to get all the information we need directly from you. In that case, we may obtain information from outside sources at our own expense. We would also like to inform you that without prior authorization, we may as permitted by law, provide information about you contained in our records and files to certain persons or organizations. \\n\\nNOTICE: As part of Esurance's underwriting/qualification procedure and subject to applicable laws and regulations, we may obtain information regarding you and other individuals who may be covered by the insurance you are applying for, including: (i) driving record, based on state motor vehicle reports and loss information reports; (ii) your prior insurance record, if any, which will be obtained from your current or prior carrier(s); (iii) credit reports; and (iv) claim history, based on loss information reports. \\n\\n\\n\\n|   Policy Number  | Purchase Date and Time    | Effective Date    | Expiration Date    |\\n|------------------|---------------------------|-------------------|--------------------|\\n|          123456  | 10/6/2009 at 1pm          | 10/10/2009        | 10/9/2010          |\\nPrimary Applicant Information\\nName\\nZiggy Starpixel\\nDate of Birth\\tGender\\tMarital Status\\tEducation Level\\n2/20/2000\\tM\\tS\\nExisting Esurance Policy\\tDrivers License Number\\tDL State\\tCurrently Insured Auto\\n123456\\t1234567A\\tNV\\tFake Auto Ins Co\\nLength of Time with Current Auto Carrier\\tLength of Time with Prior Auto Carrier\\n1 Year\\t2 years\\nYears with Prior Property Company\\tType of Current Property Policy\\n1 Year\\tHome\\nCo-Applicant Information\\nName\\nLuna Starlight-Glitterdust\\n| Date of Birth    | Gender    | Marital Status    | Education Level    |\\n|------------------|-----------|-------------------|--------------------|\\n| 2/29/2000        | F         | S                 | Graduate           |\\nRelationship to Primary Applicant\\tDrivers License Number\\tDL State\\tCurrently Insured- Auto\\nDomestic Partner\\t987654A\\tNV\\tFake Auto Ins Co.\\nLength of Time with Current Auto Carrier\\tLength of Time with Prior Auto Carrier\\n1 year\\t6 months\\n\\n\\n\\n\\n\\nTotal Auto Claims, Accidents, and Violations for all Applicants\\nNumber of Auto Accidents\\tNumber of Violations\\nAt-Fault\\tNot-at-Fault\\tMajor\\tMinor\\tNumber of Comp Claims\\nHI50100 NV 02 16\\tPage 1\\n\\n </document-ocr-data>\\n<document-image> \"}, {'image': '[image_data]'}, {'text': ' </document-image>\\n<final-instructions> Analyze the document above by: 1. Applying the <classification-instructions> to examine both visual and textual features 2. Selecting ONLY from document types in <document-types> 3. Providing clear reasoning with specific evidence 4. Outputting in the exact JSON format specified in <output-format> </final-instructions>'}]}]\n",
      "INFO:idp_common.bedrock.client:  - additionalModelRequestFields: {'inferenceConfig': {'topK': 5}}\n",
      "INFO:idp_common.bedrock.client:Bedrock request successful after 1 attempts. Duration: 2.30s\n",
      "INFO:idp_common.bedrock.client:Token Usage: {'inputTokens': 2674, 'outputTokens': 104, 'totalTokens': 3422, 'cacheReadInputTokens': 0, 'cacheWriteInputTokens': 644}\n",
      "INFO:idp_common.bedrock.client:Bedrock request successful after 1 attempts. Duration: 2.65s\n",
      "INFO:idp_common.bedrock.client:Token Usage: {'inputTokens': 2618, 'outputTokens': 91, 'totalTokens': 3353, 'cacheReadInputTokens': 644, 'cacheWriteInputTokens': 0}\n",
      "INFO:idp_common.bedrock.client:Bedrock request successful after 1 attempts. Duration: 3.05s\n",
      "INFO:idp_common.bedrock.client:Token Usage: {'inputTokens': 2312, 'outputTokens': 121, 'totalTokens': 3077, 'cacheReadInputTokens': 644, 'cacheWriteInputTokens': 0}\n",
      "INFO:idp_common.classification.service:Time taken for classification of page 5: 3.72 seconds\n",
      "INFO:idp_common.classification.service:Parsed classification response as json: {'classification_reason': \"The document contains detailed wage and tax information for an employee, including employer identification number, employee's social security number, wages, and various tax withholdings. This aligns with the description of a W2 form, which is an annual tax document provided by employers to employees reporting wages earned and taxes withheld during the tax year.\", 'class': 'W2', 'document_boundary': 'start'}\n",
      "INFO:idp_common.classification.service:Page 5 classified as W2\n",
      "INFO:idp_common.bedrock.client:Bedrock request successful after 1 attempts. Duration: 3.45s\n",
      "INFO:idp_common.bedrock.client:Token Usage: {'inputTokens': 1852, 'outputTokens': 119, 'totalTokens': 2615, 'cacheReadInputTokens': 644, 'cacheWriteInputTokens': 0}\n",
      "INFO:idp_common.bedrock.client:Bedrock request successful after 1 attempts. Duration: 3.52s\n",
      "INFO:idp_common.bedrock.client:Token Usage: {'inputTokens': 2410, 'outputTokens': 121, 'totalTokens': 3175, 'cacheReadInputTokens': 644, 'cacheWriteInputTokens': 0}\n",
      "INFO:idp_common.bedrock.client:Bedrock request successful after 1 attempts. Duration: 3.64s\n",
      "INFO:idp_common.bedrock.client:Token Usage: {'inputTokens': 1964, 'outputTokens': 106, 'totalTokens': 2714, 'cacheReadInputTokens': 644, 'cacheWriteInputTokens': 0}\n",
      "INFO:idp_common.classification.service:Time taken for classification of page 1: 5.59 seconds\n",
      "INFO:idp_common.classification.service:Parsed classification response as json: {'classification_reason': \"The document is titled 'Earnings Statement' and contains detailed information about an employee's earnings, deductions, and net pay for a specific pay period. It includes sections for earnings, deductions, and other benefits, which are typical of a payslip. The presence of elements like Social Security Number, taxable marital status, and year-to-date totals further confirms this classification.\", 'class': 'Payslip', 'document_boundary': 'start'}\n",
      "INFO:idp_common.classification.service:Page 1 classified as Payslip\n",
      "INFO:idp_common.classification.service:Time taken for classification of page 2: 6.05 seconds\n",
      "INFO:idp_common.classification.service:Parsed classification response as json: {'classification_reason': \"The document contains typical elements of a US driver's license, including the 'UNITED STATES DRIVER LICENSE' header, expiration date, driver's license number, personal information (name, address, date of birth), physical characteristics (height, weight, hair and eye color), and a class designation. The layout and structure, along with the presence of a photograph, align with the format of a US driver's license.\", 'class': 'US-drivers-licenses', 'document_boundary': 'start'}\n",
      "INFO:idp_common.classification.service:Page 2 classified as US-drivers-licenses\n",
      "INFO:idp_common.classification.service:Time taken for classification of page 3: 6.30 seconds\n",
      "INFO:idp_common.classification.service:Parsed classification response as json: {'classification_reason': \"The document has a structured layout typical of a bank check, including a payee line, amount line, and a signature area. The presence of a routing number, account number, and check number further supports this classification. The text 'SAMPLE NON-NEGOTIABLE' and 'VOID' markings indicate it is a sample check, but the format and elements align with actual bank checks.\", 'class': 'Bank-checks', 'document_boundary': 'start'}\n",
      "INFO:idp_common.classification.service:Page 3 classified as Bank-checks\n",
      "INFO:idp_common.classification.service:Time taken for classification of page 6: 6.34 seconds\n",
      "INFO:idp_common.classification.service:Parsed classification response as json: {'classification_reason': \"The document is titled 'Homeowners Insurance Application' and contains sections for named insured details, insurance company information, primary applicant information, co-applicant information, and a notice of insurance information practices. These elements align with the description of a Homeowners-Insurance-Application, which is an application form for homeowners insurance coverage containing applicant personal information, property details, coverage requirements, existing insurance history, and underwriting data necessary for evaluating risk and determining appropriate coverage terms.\", 'class': 'Homeowners-Insurance-Application', 'document_boundary': 'start'}\n",
      "INFO:idp_common.classification.service:Page 6 classified as Homeowners-Insurance-Application\n",
      "INFO:idp_common.classification.service:Time taken for classification of page 4: 6.89 seconds\n",
      "INFO:idp_common.classification.service:Parsed classification response as json: {'classification_reason': \"The document contains a structured layout typical of financial statements, including sections for account details, account balance, account valuation, and insurance details. The textual content includes specific financial terminology such as 'Account Number', 'Account Balance', 'Investment option name', and 'Insurance cover amount'. These features align with the description of a Bank-Statement, which is a periodic financial document issued by banks detailing account activity, balances, and transactions over a specific time period.\", 'class': 'Bank-Statement', 'document_boundary': 'start'}\n",
      "INFO:idp_common.classification.service:Page 4 classified as Bank-Statement\n",
      "INFO:idp_common.classification.service:All pages succeeded for document bank_statement - skipping cache (no retry needed)\n",
      "INFO:idp_common.classification.service:Document classified with 6 sections in 8.23 seconds\n"
     ]
    },
    {
     "name": "stdout",
     "output_type": "stream",
     "text": [
      "✅ Classification completed in 8.23 seconds\n",
      "Document status: QUEUED\n"
     ]
    }
   ],
   "source": [
    "# Classify the document\n",
    "print(\"\\nClassifying document with boundary detection...\")\n",
    "start_time = time.time()\n",
    "\n",
    "try:\n",
    "    classified_document = service.classify_document(document)\n",
    "    classification_time = time.time() - start_time\n",
    "    \n",
    "    print(f\"✅ Classification completed in {classification_time:.2f} seconds\")\n",
    "    print(f\"Document status: {classified_document.status.value}\")\n",
    "    \n",
    "except Exception as e:\n",
    "    print(f\"❌ Classification failed: {str(e)}\")\n",
    "    raise"
   ]
  },
  {
   "cell_type": "markdown",
   "metadata": {},
   "source": [
    "## 5. Display Results with Boundary Information"
   ]
  },
  {
   "cell_type": "code",
   "execution_count": 5,
   "metadata": {},
   "outputs": [
    {
     "name": "stdout",
     "output_type": "stream",
     "text": [
      "\n",
      "📑 Detected 6 sections:\n",
      "\n",
      "Section 1:\n",
      "  Type: Payslip\n",
      "  Pages: ['1']\n",
      "  Number of pages: 1\n",
      "\n",
      "Section 2:\n",
      "  Type: US-drivers-licenses\n",
      "  Pages: ['2']\n",
      "  Number of pages: 1\n",
      "\n",
      "Section 3:\n",
      "  Type: Bank-checks\n",
      "  Pages: ['3']\n",
      "  Number of pages: 1\n",
      "\n",
      "Section 4:\n",
      "  Type: Bank-Statement\n",
      "  Pages: ['4']\n",
      "  Number of pages: 1\n",
      "\n",
      "Section 5:\n",
      "  Type: W2\n",
      "  Pages: ['5']\n",
      "  Number of pages: 1\n",
      "\n",
      "Section 6:\n",
      "  Type: Homeowners-Insurance-Application\n",
      "  Pages: ['6']\n",
      "  Number of pages: 1\n",
      "\n",
      "📄 Page-level classifications with boundaries:\n",
      "Page 1: Payslip [boundary: start]\n",
      "Page 2: US-drivers-licenses [boundary: start]\n",
      "Page 3: Bank-checks [boundary: start]\n",
      "Page 4: Bank-Statement [boundary: start]\n",
      "Page 5: W2 [boundary: start]\n",
      "Page 6: Homeowners-Insurance-Application [boundary: start]\n"
     ]
    }
   ],
   "source": [
    "# Show sections with boundary information\n",
    "if classified_document.sections:\n",
    "    print(f\"\\n📑 Detected {len(classified_document.sections)} sections:\")\n",
    "    for section in classified_document.sections:\n",
    "        print(f\"\\nSection {section.section_id}:\")\n",
    "        print(f\"  Type: {section.classification}\")\n",
    "        print(f\"  Pages: {section.page_ids}\")\n",
    "        print(f\"  Number of pages: {len(section.page_ids)}\")\n",
    "else:\n",
    "    print(\"\\n⚠️ No sections detected\")\n",
    "\n",
    "# Show page-level classifications with boundary markers\n",
    "print(\"\\n📄 Page-level classifications with boundaries:\")\n",
    "for page_id in sorted(classified_document.pages.keys(), key=lambda x: int(x) if x.isdigit() else float('inf')):\n",
    "    page = classified_document.pages[page_id]\n",
    "    \n",
    "    # Get boundary information from page metadata if available\n",
    "    boundary = \"unknown\"\n",
    "    if hasattr(page, 'metadata') and page.metadata:\n",
    "        boundary = page.metadata.get('document_boundary', 'unknown')\n",
    "    \n",
    "    # Check if page has classification result in Document model\n",
    "    if hasattr(page, 'classification'):\n",
    "        print(f\"Page {page_id}: {page.classification} [boundary: {boundary}]\")"
   ]
  },
  {
   "cell_type": "markdown",
   "metadata": {},
   "source": [
    "## 6. Analyze Boundary Detection Results"
   ]
  },
  {
   "cell_type": "code",
   "execution_count": 6,
   "metadata": {},
   "outputs": [
    {
     "name": "stdout",
     "output_type": "stream",
     "text": [
      "\n",
      "🔍 Boundary Detection Analysis:\n",
      "Number of 'start' boundaries detected: 6\n",
      "Number of sections created: 6\n",
      "\n",
      "📊 Boundary Transitions:\n",
      "  Boundary marker at page 1: Payslip [boundary: start]\n",
      "  Type change at page 2: Payslip → US-drivers-licenses [boundary: start]\n",
      "  Type change at page 3: US-drivers-licenses → Bank-checks [boundary: start]\n",
      "  Type change at page 4: Bank-checks → Bank-Statement [boundary: start]\n",
      "  Type change at page 5: Bank-Statement → W2 [boundary: start]\n",
      "  Type change at page 6: W2 → Homeowners-Insurance-Application [boundary: start]\n",
      "\n",
      "✅ Boundary detection is working - sections align with boundary markers\n"
     ]
    }
   ],
   "source": [
    "# Analyze boundary detection effectiveness\n",
    "print(\"\\n🔍 Boundary Detection Analysis:\")\n",
    "\n",
    "# Count boundary markers\n",
    "boundary_starts = 0\n",
    "boundary_info = {}\n",
    "\n",
    "for page_id, page in classified_document.pages.items():\n",
    "    # Try to get boundary info from metadata\n",
    "    boundary = \"unknown\"\n",
    "    if hasattr(page, 'metadata') and page.metadata:\n",
    "        boundary = page.metadata.get('document_boundary', 'unknown')\n",
    "    \n",
    "    boundary_info[page_id] = boundary\n",
    "    if boundary == 'start':\n",
    "        boundary_starts += 1\n",
    "\n",
    "print(f\"Number of 'start' boundaries detected: {boundary_starts}\")\n",
    "print(f\"Number of sections created: {len(classified_document.sections) if classified_document.sections else 0}\")\n",
    "\n",
    "# Display boundary transitions\n",
    "print(\"\\n📊 Boundary Transitions:\")\n",
    "prev_type = None\n",
    "for page_id in sorted(classified_document.pages.keys(), key=lambda x: int(x) if x.isdigit() else float('inf')):\n",
    "    page = classified_document.pages[page_id]\n",
    "    if hasattr(page, 'classification'):\n",
    "        curr_type = page.classification\n",
    "        boundary = boundary_info.get(page_id, 'unknown')\n",
    "        \n",
    "        if prev_type and prev_type != curr_type:\n",
    "            print(f\"  Type change at page {page_id}: {prev_type} → {curr_type} [boundary: {boundary}]\")\n",
    "        elif boundary == 'start':\n",
    "            print(f\"  Boundary marker at page {page_id}: {curr_type} [boundary: start]\")\n",
    "        \n",
    "        prev_type = curr_type\n",
    "\n",
    "# Verify boundary logic\n",
    "if classified_document.sections and boundary_starts > 0:\n",
    "    print(\"\\n✅ Boundary detection is working - sections align with boundary markers\")\n",
    "else:\n",
    "    print(\"\\n⚠️ No boundary markers detected - sections based on document type changes only\")"
   ]
  },
  {
   "cell_type": "markdown",
   "metadata": {},
   "source": [
    "## 7. Save Results"
   ]
  },
  {
   "cell_type": "code",
   "execution_count": 10,
   "metadata": {},
   "outputs": [
    {
     "name": "stdout",
     "output_type": "stream",
     "text": [
      "\n",
      "💾 Saved classified document to: /home/ec2-user/projects/genaiic-idp-accelerator-2/notebooks/examples/.data/step2_classification/classified_document.json\n",
      "💾 Saved classification summary to: /home/ec2-user/projects/genaiic-idp-accelerator-2/notebooks/examples/.data/step2_classification/classification_summary.json\n"
     ]
    }
   ],
   "source": [
    "# Create output directory\n",
    "output_dir = examples_dir / '.data' / 'step2_classification'\n",
    "output_dir.mkdir(parents=True, exist_ok=True)\n",
    "\n",
    "# Save classified document\n",
    "output_path = output_dir / 'document.json'\n",
    "with open(output_path, 'w') as f:\n",
    "    f.write(classified_document.to_json())\n",
    "    \n",
    "print(f\"\\n💾 Saved classified document to: {output_path}\")\n",
    "\n",
    "# Save classification summary\n",
    "summary = {\n",
    "    'document_id': classified_document.id,\n",
    "    'classification_method': service.classification_method,\n",
    "    'processing_time_seconds': classification_time,\n",
    "    'num_sections': len(classified_document.sections) if classified_document.sections else 0,\n",
    "    'sections': [\n",
    "        {\n",
    "            'section_id': section.section_id,\n",
    "            'classification': section.classification,\n",
    "            'page_ids': section.page_ids,\n",
    "            'num_pages': len(section.page_ids)\n",
    "        } for section in (classified_document.sections or [])\n",
    "    ],\n",
    "    'boundary_detection': {\n",
    "        'enabled': True,\n",
    "        'num_start_boundaries': boundary_starts,\n",
    "        'boundary_info': boundary_info\n",
    "    },\n",
    "    'page_classifications': {\n",
    "        page_id: {\n",
    "            'classification': page.classification if hasattr(page, 'classification') else 'unknown',\n",
    "            'boundary': boundary_info.get(page_id, 'unknown')\n",
    "        } for page_id, page in classified_document.pages.items()\n",
    "    }\n",
    "}\n",
    "\n",
    "summary_path = output_dir / 'classification_summary.json'\n",
    "with open(summary_path, 'w') as f:\n",
    "    json.dump(summary, f, indent=2)\n",
    "    \n",
    "print(f\"💾 Saved classification summary to: {summary_path}\")\n",
    "\n",
    "# Save configuration (pass through)\n",
    "config_path = output_dir / \"config.json\"\n",
    "with open(config_path, 'w') as f:\n",
    "    json.dump(CONFIG, f, indent=2)\n",
    "\n",
    "# Save environment info (pass through)\n",
    "env_path = output_dir / \"environment.json\"\n",
    "with open(env_path, 'w') as f:\n",
    "    json.dump(env_info, f, indent=2)\n",
    "\n",
    "print(f\"💾 Saved configuration to: {config_path}\")\n",
    "print(f\"💾 Saved environment info to: {env_path}\")"
   ]
  },
  {
   "cell_type": "markdown",
   "metadata": {},
   "source": [
    "## 8. Summary"
   ]
  },
  {
   "cell_type": "code",
   "execution_count": 8,
   "metadata": {},
   "outputs": [
    {
     "name": "stdout",
     "output_type": "stream",
     "text": [
      "\n",
      "============================================================\n",
      "✅ BOUNDARY CLASSIFICATION COMPLETE\n",
      "============================================================\n",
      "Document ID: bank_statement\n",
      "Classification Method: multimodalPageLevelClassification\n",
      "Processing Time: 8.23 seconds\n",
      "Sections Identified: 6\n",
      "Boundary Markers Found: 6\n",
      "\n",
      "📁 Output saved to: /home/ec2-user/projects/genaiic-idp-accelerator-2/notebooks/examples/data/classification_boundary_output\n",
      "\n",
      "📌 Next step: Run extraction on the classified sections\n"
     ]
    }
   ],
   "source": [
    "print(\"\\n\" + \"=\"*60)\n",
    "print(\"✅ BOUNDARY CLASSIFICATION COMPLETE\")\n",
    "print(\"=\"*60)\n",
    "print(f\"Document ID: {classified_document.id}\")\n",
    "print(f\"Classification Method: {service.classification_method}\")\n",
    "print(f\"Processing Time: {classification_time:.2f} seconds\")\n",
    "print(f\"Sections Identified: {len(classified_document.sections) if classified_document.sections else 0}\")\n",
    "print(f\"Boundary Markers Found: {boundary_starts}\")\n",
    "print(f\"\\n📁 Output saved to: {output_dir}\")\n",
    "print(\"\\n📌 Next step: Run extraction on the classified sections\")"
   ]
  }
 ],
 "metadata": {
  "kernelspec": {
   "display_name": "Python 3",
   "language": "python",
   "name": "python3"
  },
  "language_info": {
   "codemirror_mode": {
    "name": "ipython",
    "version": 3
   },
   "file_extension": ".py",
   "mimetype": "text/x-python",
   "name": "python",
   "nbconvert_exporter": "python",
   "pygments_lexer": "ipython3",
   "version": "3.11.13"
  }
 },
 "nbformat": 4,
 "nbformat_minor": 4
}
