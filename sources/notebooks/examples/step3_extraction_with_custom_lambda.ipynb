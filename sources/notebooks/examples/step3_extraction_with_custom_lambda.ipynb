{
 "cells": [
  {
   "cell_type": "markdown",
   "metadata": {},
   "source": [
    "# Step 3: Information Extraction with Custom Lambda Demonstration\n",
    "\n",
    "This notebook demonstrates the **custom prompt generator Lambda feature** for Patterns 2 and 3. It shows how to:\n",
    "\n",
    "- Configure custom Lambda functions for extraction prompt generation\n",
    "- Compare default vs custom prompt extraction results\n",
    "- Inspect Lambda payloads and responses\n",
    "- Handle errors and monitor performance\n",
    "\n",
    "**Prerequisites:**\n",
    "- Completed Step 2 (Classification)\n",
    "- AWS Lambda permissions to create/invoke functions\n",
    "- Demo Lambda function deployed (see deployment section below)\n",
    "\n",
    "**Key Feature:**\n",
    "The `custom_prompt_lambda_arn` configuration field allows you to inject custom business logic into the extraction process while leveraging the existing IDP infrastructure."
   ]
  },
  {
   "cell_type": "markdown",
   "metadata": {},
   "source": [
    "## 1. Setup and Import Libraries"
   ]
  },
  {
   "cell_type": "code",
   "execution_count": null,
   "metadata": {},
   "outputs": [],
   "source": [
    "import os\n",
    "import json\n",
    "import time\n",
    "import logging\n",
    "import boto3\n",
    "from pathlib import Path\n",
    "import yaml\n",
    "\n",
    "# Import IDP libraries\n",
    "from idp_common.models import Document, Status\n",
    "from idp_common import extraction\n",
    "\n",
    "# Configure logging to see Lambda invocation details\n",
    "logging.basicConfig(level=logging.INFO)\n",
    "logging.getLogger('idp_common.extraction').setLevel(logging.INFO)\n",
    "logging.getLogger('idp_common.bedrock.client').setLevel(logging.INFO)\n",
    "\n",
    "print(\"Libraries imported successfully\")"
   ]
  },
  {
   "cell_type": "markdown",
   "metadata": {},
   "source": [
    "## 2. Load Previous Step Data"
   ]
  },
  {
   "cell_type": "code",
   "execution_count": null,
   "metadata": {},
   "outputs": [],
   "source": [
    "# Load document from previous step\n",
    "classification_data_dir = Path(\".data/step2_classification\")\n",
    "\n",
    "# Load document object from JSON\n",
    "document_path = classification_data_dir / \"document.json\"\n",
    "with open(document_path, 'r') as f:\n",
    "    document = Document.from_json(f.read())\n",
    "\n",
    "# Load configuration directly from config files\n",
    "config_dir = Path(\"config\")\n",
    "CONFIG = {}\n",
    "\n",
    "# Load each configuration file\n",
    "config_files = [\n",
    "    \"extraction.yaml\",\n",
    "    \"classes.yaml\"\n",
    "]\n",
    "\n",
    "for config_file in config_files:\n",
    "    config_path = config_dir / config_file\n",
    "    if config_path.exists():\n",
    "        with open(config_path, 'r') as f:\n",
    "            file_config = yaml.safe_load(f)\n",
    "            CONFIG.update(file_config)\n",
    "        print(f\"Loaded {config_file}\")\n",
    "    else:\n",
    "        print(f\"Warning: {config_file} not found\")\n",
    "\n",
    "# Load environment info\n",
    "env_path = classification_data_dir / \"environment.json\"\n",
    "with open(env_path, 'r') as f:\n",
    "    env_info = json.load(f)\n",
    "\n",
    "# Set environment variables\n",
    "os.environ['AWS_REGION'] = env_info['region']\n",
    "os.environ['METRIC_NAMESPACE'] = 'IDP-Custom-Lambda-Demo'\n",
    "\n",
    "print(f\"Loaded document: {document.id}\")\n",
    "print(f\"Document status: {document.status.value}\")\n",
    "print(f\"Number of sections: {len(document.sections) if document.sections else 0}\")\n",
    "print(f\"Loaded configuration sections: {list(CONFIG.keys())}\")"
   ]
  },
  {
   "cell_type": "markdown",
   "metadata": {},
   "source": [
    "## 3. Configure Lambda ARN (Set Your Function ARN Here)"
   ]
  },
  {
   "cell_type": "code",
   "execution_count": null,
   "metadata": {},
   "outputs": [],
   "source": [
    "# 🔧 CONFIGURATION: Set your custom Lambda ARN here\n",
    "# Replace with your actual Lambda function ARN for live testing\n",
    "\n",
    "# Example ARNs (replace with your actual ARN):\n",
    "# DEMO_LAMBDA_ARN = \"arn:aws:lambda:us-east-1:123456789012:function:GENAIIDP-notebook-demo-extractor\"\n",
    "# DEMO_LAMBDA_ARN = \"arn:aws:lambda:us-east-1:123456789012:function:GENAIIDP-my-custom-extractor\"\n",
    "\n",
    "# Check if Lambda function exists\n",
    "lambda_client = boto3.client('lambda')\n",
    "DEMO_LAMBDA_ARN = None\n",
    "\n",
    "try:\n",
    "    response = lambda_client.get_function(FunctionName='GENAIIDP-notebook-demo-extractor')\n",
    "    DEMO_LAMBDA_ARN = response['Configuration']['FunctionArn']\n",
    "    print(f\"✅ Found demo Lambda function: {DEMO_LAMBDA_ARN}\")\n",
    "except lambda_client.exceptions.ResourceNotFoundException:\n",
    "    print(\"⚠️  Demo Lambda function not found: GENAIIDP-notebook-demo-extractor\")\n",
    "    print(\"💡 Deploy using: cd notebooks/examples/demo-lambda && sam deploy --guided\")\n",
    "except Exception as e:\n",
    "    print(f\"Error checking Lambda function: {e}\")\n",
    "\n",
    "if not DEMO_LAMBDA_ARN:\n",
    "    print(\"⚠️  No custom Lambda ARN configured\")\n",
    "    print(\"💡 This demo will show standard extraction and simulate custom Lambda behavior\")\n",
    "    print(\"🔧 To test with a real Lambda, set DEMO_LAMBDA_ARN above\")\n",
    "else:\n",
    "    print(f\"✅ Custom Lambda ARN configured: {DEMO_LAMBDA_ARN}\")\n",
    "    print(\"🚀 This demo will use your custom Lambda function\")"
   ]
  },
  {
   "cell_type": "markdown",
   "metadata": {},
   "source": [
    "## 4. Extraction Comparison: Default vs Custom Lambda"
   ]
  },
  {
   "cell_type": "markdown",
   "metadata": {},
   "source": [
    "### 4.1 Default Extraction (Without Custom Lambda)"
   ]
  },
  {
   "cell_type": "code",
   "execution_count": null,
   "metadata": {},
   "outputs": [],
   "source": [
    "# Create configuration WITHOUT custom Lambda\n",
    "config_default = CONFIG.copy()\n",
    "if 'custom_prompt_lambda_arn' in config_default.get('extraction', {}):\n",
    "    del config_default['extraction']['custom_prompt_lambda_arn']\n",
    "\n",
    "print(\"=== DEFAULT EXTRACTION CONFIGURATION ===\")\n",
    "print(f\"Model: {config_default.get('extraction', {}).get('model')}\")\n",
    "print(f\"Custom Lambda: {config_default.get('extraction', {}).get('custom_prompt_lambda_arn', 'None')}\")\n",
    "\n",
    "# Create extraction service with default config\n",
    "extraction_service_default = extraction.ExtractionService(config=config_default)\n",
    "print(\"\\n✅ Default extraction service initialized\")"
   ]
  },
  {
   "cell_type": "code",
   "execution_count": null,
   "metadata": {},
   "outputs": [],
   "source": [
    "# Run default extraction on first section\n",
    "if document.sections:\n",
    "    first_section = document.sections[0]\n",
    "    print(f\"🔄 Processing section {first_section.section_id} with DEFAULT prompts\")\n",
    "    print(f\"Classification: {first_section.classification}\")\n",
    "    print(f\"Pages: {first_section.page_ids}\")\n",
    "    \n",
    "    # Save original document state\n",
    "    document_default = Document.from_json(document.to_json())\n",
    "    \n",
    "    # Process with default extraction\n",
    "    start_time = time.time()\n",
    "    document_default = extraction_service_default.process_document_section(\n",
    "        document=document_default,\n",
    "        section_id=first_section.section_id\n",
    "    )\n",
    "    default_extraction_time = time.time() - start_time\n",
    "    \n",
    "    print(f\"✅ Default extraction completed in {default_extraction_time:.2f} seconds\")\n",
    "    \n",
    "    # Store results for comparison\n",
    "    default_section_result = None\n",
    "    for section in document_default.sections:\n",
    "        if section.section_id == first_section.section_id:\n",
    "            default_section_result = section\n",
    "            break\n",
    "            \n",
    "else:\n",
    "    print(\"⚠️ No sections found in document\")"
   ]
  },
  {
   "cell_type": "markdown",
   "metadata": {},
   "source": [
    "### 4.2 Custom Lambda Extraction"
   ]
  },
  {
   "cell_type": "code",
   "execution_count": null,
   "metadata": {},
   "outputs": [],
   "source": [
    "if DEMO_LAMBDA_ARN:\n",
    "    # Create configuration WITH custom Lambda\n",
    "    config_custom = CONFIG.copy()\n",
    "    config_custom['extraction']['custom_prompt_lambda_arn'] = DEMO_LAMBDA_ARN\n",
    "    \n",
    "    print(\"=== CUSTOM LAMBDA EXTRACTION CONFIGURATION ===\")\n",
    "    print(f\"Model: {config_custom.get('extraction', {}).get('model')}\")\n",
    "    print(f\"Custom Lambda: {DEMO_LAMBDA_ARN}\")\n",
    "    print(f\"Lambda Function Name: {DEMO_LAMBDA_ARN.split(':')[-1]}\")\n",
    "    \n",
    "    # Create extraction service with custom Lambda config\n",
    "    extraction_service_custom = extraction.ExtractionService(config=config_custom)\n",
    "    \n",
    "    print(\"\\n✅ Custom Lambda extraction service initialized\")\n",
    "    \n",
    "else:\n",
    "    print(\"⚠️ No custom Lambda ARN configured - skipping custom Lambda demonstration\")\n",
    "    config_custom = None\n",
    "    extraction_service_custom = None"
   ]
  },
  {
   "cell_type": "code",
   "execution_count": null,
   "metadata": {},
   "outputs": [],
   "source": [
    "# Run custom Lambda extraction on first section\n",
    "if DEMO_LAMBDA_ARN and document.sections:\n",
    "    first_section = document.sections[0]\n",
    "    print(f\"🔄 Processing section {first_section.section_id} with CUSTOM LAMBDA prompts\")\n",
    "    print(f\"Classification: {first_section.classification}\")\n",
    "    print(f\"Pages: {first_section.page_ids}\")\n",
    "    \n",
    "    # Create fresh document copy for custom processing\n",
    "    document_custom = Document.from_json(document.to_json())\n",
    "    \n",
    "    # Process with custom Lambda extraction\n",
    "    start_time = time.time()\n",
    "    \n",
    "    try:\n",
    "        document_custom = extraction_service_custom.process_document_section(\n",
    "            document=document_custom,\n",
    "            section_id=first_section.section_id\n",
    "        )\n",
    "        custom_extraction_time = time.time() - start_time\n",
    "        \n",
    "        print(f\"✅ Custom Lambda extraction completed in {custom_extraction_time:.2f} seconds\")\n",
    "        \n",
    "        # Store results for comparison\n",
    "        custom_section_result = None\n",
    "        for section in document_custom.sections:\n",
    "            if section.section_id == first_section.section_id:\n",
    "                custom_section_result = section\n",
    "                break\n",
    "                \n",
    "        # Performance comparison\n",
    "        overhead = custom_extraction_time - default_extraction_time\n",
    "        print(f\"\\n📊 Performance Comparison:\")\n",
    "        print(f\"   Default: {default_extraction_time:.2f}s\")\n",
    "        print(f\"   Custom:  {custom_extraction_time:.2f}s\")\n",
    "        print(f\"   Lambda Overhead: {overhead:.2f}s ({overhead/default_extraction_time*100:.1f}% increase)\")\n",
    "        \n",
    "    except Exception as e:\n",
    "        print(f\"❌ Custom Lambda extraction failed: {e}\")\n",
    "        print(\"\\n🔍 This demonstrates the fail-fast error handling behavior\")\n",
    "        custom_section_result = None\n",
    "        custom_extraction_time = None\n",
    "        \n",
    "else:\n",
    "    print(\"⚠️ Skipping custom Lambda extraction (no Lambda configured or no sections)\")\n",
    "    document_custom = None\n",
    "    custom_section_result = None\n",
    "    custom_extraction_time = None"
   ]
  },
  {
   "cell_type": "markdown",
   "metadata": {},
   "source": [
    "## 5. Results and Summary"
   ]
  },
  {
   "cell_type": "code",
   "execution_count": null,
   "metadata": {},
   "outputs": [],
   "source": [
    "print(\"=== DEMO COMPLETE: SUMMARY ===\")\n",
    "\n",
    "sections_processed = 1 if document.sections else 0\n",
    "lambda_used = DEMO_LAMBDA_ARN is not None\n",
    "\n",
    "print(f\"\\n✅ DEMO RESULTS:\")\n",
    "print(f\"   📄 Document processed: {document.id}\")\n",
    "print(f\"   📊 Sections processed: {sections_processed}\")\n",
    "print(f\"   🔧 Custom Lambda used: {'Yes' if lambda_used else 'No (simulated)'}\")\n",
    "\n",
    "if lambda_used and 'custom_extraction_time' in locals():\n",
    "    print(f\"   ⏱️  Performance overhead: {custom_extraction_time - default_extraction_time:.2f}s\")\n",
    "\n",
    "print(f\"\\n🚀 TO IMPLEMENT CUSTOM LAMBDA IN PRODUCTION:\")\n",
    "print(f\"   1. 📝 Create your Lambda function with GENAIIDP-* naming\")\n",
    "print(f\"   2. 🔐 Deploy with appropriate IAM role and permissions\")\n",
    "print(f\"   3. ⚙️  Add 'custom_prompt_lambda_arn' to your extraction config\")\n",
    "print(f\"   4. 🧪 Test with your actual documents and use cases\")\n",
    "print(f\"   5. 📊 Monitor CloudWatch logs for performance and errors\")\n",
    "\n",
    "print(f\"\\n📚 RESOURCES:\")\n",
    "print(f\"   📖 Documentation: notebooks/examples/demo-lambda/README.md\")\n",
    "print(f\"   🔧 Demo Lambda: notebooks/examples/demo-lambda/GENAIIDP-notebook-demo-extractor.py\")\n",
    "print(f\"   ☁️  Deploy: cd notebooks/examples/demo-lambda && sam deploy --guided\")\n",
    "\n",
    "print(f\"\\n📌 CONTINUE TO: step4_assessment.ipynb\")"
   ]
  }
 ],
 "metadata": {
  "kernelspec": {
   "display_name": "Python 3",
   "language": "python", 
   "name": "python3"
  },
  "language_info": {
   "codemirror_mode": {
    "name": "ipython",
    "version": 3
   },
   "file_extension": ".py",
   "name": "python",
   "nbconvert_exporter": "python",
   "pygments_lexer": "ipython3",
   "version": "3.13.0"
  }
 },
 "nbformat": 4,
 "nbformat_minor": 4
}
