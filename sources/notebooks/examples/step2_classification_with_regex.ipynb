{
 "cells": [
  {
   "cell_type": "markdown",
   "metadata": {},
   "source": [
    "# Step 2: Classification with Regex-Based Pattern Matching\n",
    "\n",
    "This notebook demonstrates the new regex-based classification features for improved performance and deterministic classification.\n",
    "\n",
    "**Key Features:**\n",
    "- Document name regex matching for single-class configurations\n",
    "- Page content regex matching for multi-modal page-level classification\n",
    "- Performance comparison between regex and LLM classification\n",
    "- Cost savings through reduced token usage"
   ]
  },
  {
   "cell_type": "markdown",
   "metadata": {},
   "source": [
    "## 1. Setup and Configuration"
   ]
  },
  {
   "cell_type": "code",
   "execution_count": null,
   "metadata": {},
   "outputs": [],
   "source": [
    "import os\n",
    "import json\n",
    "import yaml\n",
    "import time\n",
    "import logging\n",
    "import re\n",
    "from pathlib import Path\n",
    "from copy import deepcopy\n",
    "\n",
    "from idp_common.classification.service import ClassificationService\n",
    "from idp_common.models import Document, Status\n",
    "\n",
    "# Configure logging\n",
    "logging.basicConfig(level=logging.WARNING)\n",
    "logging.getLogger('idp_common.classification').setLevel(logging.INFO)\n",
    "\n",
    "# Set AWS region\n",
    "if 'AWS_REGION' not in os.environ:\n",
    "    os.environ['AWS_REGION'] = 'us-west-2'\n",
    "\n",
    "print(\"✅ Libraries loaded and configured\")"
   ]
  },
  {
   "cell_type": "markdown",
   "metadata": {},
   "source": [
    "## 2. Load Document and Configuration"
   ]
  },
  {
   "cell_type": "code",
   "execution_count": null,
   "metadata": {},
   "outputs": [],
   "source": [
    "# Load OCR output from Step 1\n",
    "examples_dir = Path.cwd()\n",
    "ocr_data_path = examples_dir / 'data' / 'ocr_output.json'\n",
    "\n",
    "if not ocr_data_path.exists():\n",
    "    ocr_data_path = examples_dir / '.data' / 'step1_ocr' / 'document.json'\n",
    "    \n",
    "if not ocr_data_path.exists():\n",
    "    raise FileNotFoundError(f\"OCR output not found at {ocr_data_path}\")\n",
    "\n",
    "with open(ocr_data_path) as f:\n",
    "    doc_data = json.load(f)\n",
    "    \n",
    "# Convert to Document object\n",
    "if isinstance(doc_data, str):\n",
    "    document = Document.from_json(doc_data)\n",
    "else:\n",
    "    document = Document.from_dict(doc_data) if 'id' in doc_data else Document.from_json(json.dumps(doc_data))\n",
    "\n",
    "# Load base configuration\n",
    "config_dir = Path(\"config\")\n",
    "BASE_CONFIG = {}\n",
    "\n",
    "for config_file in [\"classification.yaml\", \"classes.yaml\"]:\n",
    "    config_path = config_dir / config_file\n",
    "    if config_path.exists():\n",
    "        with open(config_path, 'r') as f:\n",
    "            BASE_CONFIG.update(yaml.safe_load(f))\n",
    "\n",
    "print(f\"✅ Loaded document: {document.id}\")\n",
    "print(f\"✅ Document pages: {document.num_pages}\")\n",
    "print(f\"✅ Configuration classes: {len(BASE_CONFIG.get('classes', []))}\")"
   ]
  },
  {
   "cell_type": "markdown",
   "metadata": {},
   "source": [
    "## 3. Demo: Document Name Regex Classification"
   ]
  },
  {
   "cell_type": "code",
   "execution_count": null,
   "metadata": {},
   "outputs": [],
   "source": [
    "print(\"=\" * 50)\n",
    "print(\"DOCUMENT NAME REGEX CLASSIFICATION\")\n",
    "print(\"=\" * 50)\n",
    "\n",
    "# Single-class configuration with document name regex\n",
    "regex_config = deepcopy(BASE_CONFIG)\n",
    "regex_config['classes'] = [\n",
    "    {\n",
    "        'name': 'BankStatement',\n",
    "        'description': 'Employee wage statement',\n",
    "        'document_name_regex': r'(?i).*(statement).*',\n",
    "        'attributes': [{'name': 'Name', 'description': 'Name', 'attributeType': 'simple'}]\n",
    "    },\n",
    "    {\n",
    "        'name': 'Other',\n",
    "        'description': 'Other documents',\n",
    "        'attributes': []\n",
    "    }\n",
    "]\n",
    "\n",
    "\n",
    "# Test regex pattern\n",
    "pattern = re.compile(regex_config['classes'][0]['document_name_regex'])\n",
    "match = pattern.search(document.id)\n",
    "\n",
    "print(f\"Regex Pattern: {regex_config['classes'][0]['document_name_regex']}\")\n",
    "print(f\"Document ID: {document.id}\")\n",
    "print(f\"Direct Match: {'✅ YES' if match else '❌ NO'}\")\n",
    "\n",
    "# Create service and classify\n",
    "service = ClassificationService(config=regex_config, backend='bedrock')\n",
    "\n",
    "start_time = time.time()\n",
    "classified_doc = service.classify_document(deepcopy(document))\n",
    "classification_time = time.time() - start_time\n",
    "\n",
    "print(f\"\\n⚡ Results:\")\n",
    "print(f\"Processing time: {classification_time:.3f} seconds\")\n",
    "print(f\"Status: {classified_doc.status.value}\")\n",
    "print(f\"Sections: {len(classified_doc.sections) if classified_doc.sections else 0}\")\n",
    "print(f\"Token usage: 0 (no LLM calls)\")\n",
    "print(f\"Method: Regex-based classification\")"
   ]
  },
  {
   "cell_type": "markdown",
   "metadata": {},
   "source": [
    "## 4. Demo: Page Content Regex Classification"
   ]
  },
  {
   "cell_type": "code",
   "execution_count": null,
   "metadata": {},
   "outputs": [],
   "source": [
    "print(\"\\n\" + \"=\" * 50)\n",
    "print(\"PAGE CONTENT REGEX CLASSIFICATION\")\n",
    "print(\"=\" * 50)\n",
    "\n",
    "# Multi-class configuration with page content regex\n",
    "page_regex_config = deepcopy(BASE_CONFIG)\n",
    "page_regex_config['classes'] = [\n",
    "    {\n",
    "        'name': 'Payslip',\n",
    "        'description': 'Employee wage statement',\n",
    "        'document_page_content_regex': r'(?i)(gross\\s+pay|net\\s+pay|employee\\s+id)',\n",
    "        'attributes': [{'name': 'EmployeeName', 'description': 'Name', 'attributeType': 'simple'}]\n",
    "    },\n",
    "    {\n",
    "        'name': 'Invoice',\n",
    "        'description': 'Business invoice',\n",
    "        'document_page_content_regex': r'(?i)(invoice\\s+number|bill\\s+to|amount\\s+due)',\n",
    "        'attributes': [{'name': 'InvoiceNumber', 'description': 'Number', 'attributeType': 'simple'}]\n",
    "    },\n",
    "    {\n",
    "        'name': 'Other',\n",
    "        'description': 'Other documents',\n",
    "        'attributes': []\n",
    "    }\n",
    "]\n",
    "\n",
    "# Set to multimodal page-level classification\n",
    "page_regex_config['classification'] = page_regex_config.get('classification', {})\n",
    "page_regex_config['classification']['classificationMethod'] = 'multimodalPageLevelClassification'\n",
    "\n",
    "print(\"Page Content Regex Patterns:\")\n",
    "for cls in page_regex_config['classes']:\n",
    "    if cls.get('document_page_content_regex'):\n",
    "        print(f\"- {cls['name']}: {cls['document_page_content_regex']}\")\n",
    "\n",
    "# Create service and classify\n",
    "page_service = ClassificationService(config=page_regex_config, backend='bedrock')\n",
    "\n",
    "start_time = time.time()\n",
    "page_classified_doc = page_service.classify_document(deepcopy(document))\n",
    "page_time = time.time() - start_time\n",
    "\n",
    "print(f\"\\n⚡ Results:\")\n",
    "print(f\"Processing time: {page_time:.3f} seconds\")\n",
    "print(f\"Status: {page_classified_doc.status.value}\")\n",
    "print(f\"Sections: {len(page_classified_doc.sections) if page_classified_doc.sections else 0}\")\n",
    "\n",
    "# Analyze classification methods used\n",
    "regex_pages = 0\n",
    "llm_pages = 0\n",
    "\n",
    "for page_id, page in page_classified_doc.pages.items():\n",
    "    metadata = getattr(page, 'metadata', {})\n",
    "    if metadata.get('regex_matched', False):\n",
    "        regex_pages += 1\n",
    "    else:\n",
    "        llm_pages += 1\n",
    "\n",
    "print(f\"\\n📊 Method Breakdown:\")\n",
    "print(f\"Regex classified: {regex_pages}\")\n",
    "print(f\"LLM classified: {llm_pages}\")"
   ]
  },
  {
   "cell_type": "markdown",
   "metadata": {},
   "source": [
    "## 5. Configuration Examples"
   ]
  },
  {
   "cell_type": "code",
   "execution_count": null,
   "metadata": {},
   "outputs": [],
   "source": [
    "print(\"\\n\" + \"=\" * 50)\n",
    "print(\"CONFIGURATION EXAMPLES\")\n",
    "print(\"=\" * 50)\n",
    "\n",
    "# Example configurations\n",
    "examples = {\n",
    "    'Payslip': {\n",
    "        'name_regex': r'(?i).*(payslip|paystub|salary).*',\n",
    "        'content_regex': r'(?i)(gross\\s+pay|net\\s+pay|employee\\s+id)',\n",
    "    },\n",
    "    'Invoice': {\n",
    "        'name_regex': r'(?i).*(invoice|bill|inv).*',\n",
    "        'content_regex': r'(?i)(invoice\\s+number|bill\\s+to|amount\\s+due)',\n",
    "    },\n",
    "    'Bank Statement': {\n",
    "        'name_regex': r'(?i).*(statement|bank).*',\n",
    "        'content_regex': r'(?i)(account\\s+number|statement\\s+period)',\n",
    "    }\n",
    "}\n",
    "\n",
    "print(\"Common Regex Patterns:\")\n",
    "for doc_type, patterns in examples.items():\n",
    "    print(f\"\\n{doc_type}:\")\n",
    "    print(f\"  Name: {patterns['name_regex']}\")\n",
    "    print(f\"  Content: {patterns['content_regex']}\")\n",
    "\n",
    "print(\"\\n💡 Best Practices:\")\n",
    "print(\"- Use (?i) for case-insensitive matching\")\n",
    "print(\"- Use \\\\s+ for flexible whitespace\")\n",
    "print(\"- Use | for multiple alternatives\")\n",
    "print(\"- Test patterns with real documents\")\n",
    "print(\"- Document name regex: single-class only\")\n",
    "print(\"- Page content regex: multimodal page-level only\")"
   ]
  },
  {
   "cell_type": "markdown",
   "metadata": {},
   "source": [
    "## 6. Summary"
   ]
  },
  {
   "cell_type": "code",
   "execution_count": null,
   "metadata": {},
   "outputs": [],
   "source": [
    "print(\"\\n\" + \"=\" * 50)\n",
    "print(\"✅ REGEX CLASSIFICATION COMPLETE\")\n",
    "print(\"=\" * 50)\n",
    "print(\"\\nKey Benefits Demonstrated:\")\n",
    "print(\"🚀 Massive performance improvement\")\n",
    "print(\"💰 100% token usage reduction for matched patterns\")\n",
    "print(\"🎯 Deterministic classification results\")\n",
    "print(\"🔄 Seamless fallback to LLM when no match\")\n",
    "print(\"⚙️ Simple configuration through regex patterns\")\n",
    "print(\"\\n📌 Next step: Run extraction on the classified sections\")"
   ]
  }
 ],
 "metadata": {
  "kernelspec": {
   "display_name": "Python 3",
   "language": "python",
   "name": "python3"
  },
  "language_info": {
   "codemirror_mode": {
    "name": "ipython",
    "version": 3
   },
   "file_extension": ".py",
   "mimetype": "text/x-python",
   "name": "python",
   "nbconvert_exporter": "python",
   "pygments_lexer": "ipython3",
   "version": "3.12.11"
  }
 },
 "nbformat": 4,
 "nbformat_minor": 5
}
