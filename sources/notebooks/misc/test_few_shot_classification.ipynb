{
 "cells": [
  {
   "cell_type": "markdown",
   "metadata": {},
   "source": [
    "# Test Few-Shot Classification Implementation\n",
    "\n",
    "This notebook tests the new `{FEW_SHOT_EXAMPLES}` placeholder functionality in the Classification service."
   ]
  },
  {
   "cell_type": "code",
   "execution_count": null,
   "metadata": {},
   "outputs": [],
   "source": [
    "import sys\n",
    "import os\n",
    "import yaml\n",
    "import json\n",
    "from pathlib import Path\n",
    "\n",
    "# Set ROOT_DIR - used to locate example images from local directory\n",
    "# OR set CONFIGURATION_BUCKET to S3 Configration bucket name (contains config_library)\n",
    "ROOTDIR = '../..'\n",
    "os.environ['ROOT_DIR'] = f\"{ROOTDIR}/\"\n",
    "\n",
    "# Add the idp_common package to the path\n",
    "sys.path.insert(0, '{ROOTDIR}/lib/idp_common_pkg')\n",
    "\n",
    "from idp_common.classification.service import ClassificationService\n"
   ]
  },
  {
   "cell_type": "markdown",
   "metadata": {},
   "source": [
    "## Load the Few-Shot Configuration"
   ]
  },
  {
   "cell_type": "code",
   "execution_count": null,
   "metadata": {},
   "outputs": [
    {
     "name": "stdout",
     "output_type": "stream",
     "text": [
      "Configuration loaded successfully!\n",
      "Number of classes: 12\n",
      "Classification method: multimodalPageLevelClassification\n"
     ]
    }
   ],
   "source": [
    "# Load the few-shot configuration\n",
    "config_path = f'{ROOTDIR}/config_library/pattern-2/few_shot_example_with_multimodal_page_classification/config.yaml'\n",
    "with open(config_path, 'r') as f:\n",
    "    config = yaml.safe_load(f)\n",
    "\n",
    "print(\"Configuration loaded successfully!\")\n",
    "print(f\"Number of classes: {len(config.get('classes', []))}\")\n",
    "print(f\"Classification method: {config.get('classification', {}).get('classificationMethod')}\")"
   ]
  },
  {
   "cell_type": "markdown",
   "metadata": {},
   "source": [
    "## Examine the Task Prompt Template"
   ]
  },
  {
   "cell_type": "code",
   "execution_count": 24,
   "metadata": {},
   "outputs": [
    {
     "name": "stdout",
     "output_type": "stream",
     "text": [
      "Task prompt template:\n",
      "==================================================\n",
      "Classify this document into exactly one of these categories:\n",
      "\n",
      "{CLASS_NAMES_AND_DESCRIPTIONS}\n",
      "\n",
      "Respond only with a JSON object containing the class label. For example: {{\"class\": \"letter\"}}\n",
      "<few_shot_examples>\n",
      "{FEW_SHOT_EXAMPLES}\n",
      "</few_shot_examples>\n",
      "<<CACHEPOINT>>\n",
      "<document_ocr_data>\n",
      "{DOCUMENT_TEXT}\n",
      "</document_ocr_data>\n",
      "==================================================\n",
      "\n",
      "Contains {FEW_SHOT_EXAMPLES} placeholder: True\n"
     ]
    }
   ],
   "source": [
    "# Look at the task prompt to see the FEW_SHOT_EXAMPLES placeholder\n",
    "task_prompt = config['classification']['task_prompt']\n",
    "print(\"Task prompt template:\")\n",
    "print(\"=\" * 50)\n",
    "print(task_prompt)\n",
    "print(\"=\" * 50)\n",
    "\n",
    "# Check if it contains the placeholder\n",
    "has_placeholder = \"{FEW_SHOT_EXAMPLES}\" in task_prompt\n",
    "print(f\"\\nContains {{FEW_SHOT_EXAMPLES}} placeholder: {has_placeholder}\")"
   ]
  },
  {
   "cell_type": "markdown",
   "metadata": {},
   "source": [
    "## Initialize Classification Service"
   ]
  },
  {
   "cell_type": "code",
   "execution_count": 25,
   "metadata": {},
   "outputs": [
    {
     "name": "stdout",
     "output_type": "stream",
     "text": [
      "Classification service initialized successfully!\n"
     ]
    }
   ],
   "source": [
    "# Initialize the classification service with the few-shot config\n",
    "try:\n",
    "    service = ClassificationService(\n",
    "        config=config,\n",
    "        backend=\"bedrock\",\n",
    "        region=\"us-east-1\"  # You may need to adjust this\n",
    "    )\n",
    "    print(\"Classification service initialized successfully!\")\n",
    "except Exception as e:\n",
    "    print(f\"Error initializing service: {e}\")\n",
    "    print(\"Note: This is expected if AWS credentials are not configured for Bedrock\")"
   ]
  },
  {
   "cell_type": "markdown",
   "metadata": {},
   "source": [
    "## Examine Class Examples Structure"
   ]
  },
  {
   "cell_type": "code",
   "execution_count": 26,
   "metadata": {},
   "outputs": [
    {
     "name": "stdout",
     "output_type": "stream",
     "text": [
      "Examples found in configuration:\n",
      "==================================================\n",
      "\n",
      "Class: letter\n",
      "Number of examples: 2\n",
      "  Example 1:\n",
      "    Name: Letter1\n",
      "    Class Prompt: This is an example of the class 'letter'\n",
      "    Image Path: config_library/pattern-2/few_shot_example/example-images/letter1.jpg\n",
      "    S3 URI: config_library/pattern-2/few_shot_example/example-images/letter1.jpg\n",
      "  Example 2:\n",
      "    Name: Letter2\n",
      "    Class Prompt: This is an example of the class 'letter'\n",
      "    Image Path: config_library/pattern-2/few_shot_example/example-images/letter2.png\n",
      "    S3 URI: config_library/pattern-2/few_shot_example/example-images/letter2.png\n",
      "\n",
      "Class: form\n",
      "Number of examples: 0\n",
      "\n",
      "Class: invoice\n",
      "Number of examples: 0\n",
      "\n",
      "Class: resume\n",
      "Number of examples: 0\n",
      "\n",
      "Class: scientific_publication\n",
      "Number of examples: 0\n",
      "\n",
      "Class: memo\n",
      "Number of examples: 0\n",
      "\n",
      "Class: advertisement\n",
      "Number of examples: 0\n",
      "\n",
      "Class: email\n",
      "Number of examples: 1\n",
      "  Example 1:\n",
      "    Name: Email1\n",
      "    Class Prompt: This is an example of the class 'email'\n",
      "    Image Path: config_library/pattern-2/few_shot_example/example-images/email1.jpg\n",
      "    S3 URI: config_library/pattern-2/few_shot_example/example-images/email1.jpg\n",
      "\n",
      "Class: questionnaire\n",
      "Number of examples: 0\n",
      "\n",
      "Class: specification\n",
      "Number of examples: 0\n",
      "\n",
      "Class: generic\n",
      "Number of examples: 0\n",
      "\n",
      "Class: bank-statement\n",
      "Number of examples: 1\n",
      "  Example 1:\n",
      "    Name: BankStatement1\n",
      "    Class Prompt: Here are example images for each page of a 5 page 'bank-statement '\n",
      "    Image Path: config_library/pattern-2/few_shot_example/example-images/bank-statement-pages/\n",
      "    S3 URI: config_library/pattern-2/few_shot_example/example-images/bank-statement-pages/\n",
      "\n",
      "Total examples across all classes: 4\n",
      "\n",
      "Environment variables:\n",
      "  CONFIGURATION_BUCKET: Not set - using ROOT_DIR to resolve paths locally\n",
      "  ROOT_DIR: ../\n"
     ]
    }
   ],
   "source": [
    "# Let's examine the examples in the configuration\n",
    "print(\"Examples found in configuration:\")\n",
    "print(\"=\" * 50)\n",
    "\n",
    "classes = config.get('classes', [])\n",
    "total_examples = 0\n",
    "\n",
    "for class_obj in classes:\n",
    "    class_name = class_obj.get('name', 'Unknown')\n",
    "    examples = class_obj.get('examples', [])\n",
    "    \n",
    "    print(f\"\\nClass: {class_name}\")\n",
    "    print(f\"Number of examples: {len(examples)}\")\n",
    "    \n",
    "    for i, example in enumerate(examples):\n",
    "        print(f\"  Example {i+1}:\")\n",
    "        print(f\"    Name: {example.get('name', 'N/A')}\")\n",
    "        print(f\"    Class Prompt: {example.get('classPrompt', 'N/A')}\")\n",
    "        print(f\"    Image Path: {example.get('imagePath', 'N/A')}\")\n",
    "        \n",
    "        # Check if image file exists (test the path resolution logic)\n",
    "        image_path = example.get('imagePath')\n",
    "        if image_path:\n",
    "            print(f\"    S3 URI: {image_path}\")\n",
    "        total_examples += 1\n",
    "\n",
    "print(f\"\\nTotal examples across all classes: {total_examples}\")\n",
    "print(f\"\\nEnvironment variables:\")\n",
    "print(f\"  CONFIGURATION_BUCKET: {os.environ.get('CONFIGURATION_BUCKET', 'Not set - using ROOT_DIR to resolve paths locally')}\")\n",
    "print(f\"  ROOT_DIR: {os.environ.get('ROOT_DIR', 'Not set')}\")\n"
   ]
  },
  {
   "cell_type": "markdown",
   "metadata": {},
   "source": [
    "## Test Complete Content Building with Examples"
   ]
  },
  {
   "cell_type": "code",
   "execution_count": 27,
   "metadata": {},
   "outputs": [
    {
     "name": "stdout",
     "output_type": "stream",
     "text": [
      "Testing _build_content_with_few_shot_examples method...\n",
      "Generated content array with 12 items\n",
      "\n",
      "Content structure:\n",
      "\n",
      "Item 1:\n",
      "  Type: text\n",
      "  Preview: Classify this document into exactly one of these categories:\\n\\nletter  \t[ A formal written correspondence with sender/recipient addresses, date, salutation, body, and closing signature ]\\nform  \t[ A str...\n",
      "\n",
      "Item 2:\n",
      "  Type: text\n",
      "  Preview: This is an example of the class 'letter'\n",
      "\n",
      "Item 3:\n",
      "  Type: image\n",
      "  Format: jpeg\n",
      "  Size: 106629 bytes\n",
      "\n",
      "Item 4:\n",
      "  Type: text\n",
      "  Preview: This is an example of the class 'letter'\n",
      "\n",
      "Item 5:\n",
      "  Type: image\n",
      "  Format: png\n",
      "  Size: 83993 bytes\n",
      "\n",
      "Item 6:\n",
      "  Type: text\n",
      "  Preview: This is an example of the class 'email'\n",
      "\n",
      "Item 7:\n",
      "  Type: image\n",
      "  Format: jpeg\n",
      "  Size: 49648 bytes\n",
      "\n",
      "Item 8:\n",
      "  Type: text\n",
      "  Preview: Here are example images for each page of a 5 page 'bank-statement '\n",
      "\n",
      "Item 9:\n",
      "  Type: image\n",
      "  Format: jpeg\n",
      "  Size: 101188 bytes\n",
      "\n",
      "Item 10:\n",
      "  Type: image\n",
      "  Format: jpeg\n",
      "  Size: 153717 bytes\n",
      "\n",
      "Item 11:\n",
      "  Type: image\n",
      "  Format: jpeg\n",
      "  Size: 152261 bytes\n",
      "\n",
      "Item 12:\n",
      "  Type: text\n",
      "  Preview: \\n</few_shot_examples>\\n<<CACHEPOINT>>\\n<document_ocr_data>\\nThis is a sample document for testing classification.\\n</document_ocr_data>\n"
     ]
    }
   ],
   "source": [
    "# Test the complete content building with few-shot examples\n",
    "print(\"Testing _build_content_with_few_shot_examples method...\")\n",
    "\n",
    "# Sample document text for testing\n",
    "sample_document_text = \"This is a sample document for testing classification.\"\n",
    "\n",
    "try:\n",
    "    # Get classification config\n",
    "    classification_config = service._get_classification_config()\n",
    "    task_prompt_template = classification_config['task_prompt']\n",
    "    \n",
    "    # Build content with few-shot examples\n",
    "    content = service._build_content_with_few_shot_examples(\n",
    "        task_prompt_template=task_prompt_template,\n",
    "        document_text=sample_document_text,\n",
    "        class_names_and_descriptions=service._format_classes_list()\n",
    "    )\n",
    "    \n",
    "    print(f\"Generated content array with {len(content)} items\")\n",
    "    print(\"\\nContent structure:\")\n",
    "    \n",
    "    for i, item in enumerate(content):\n",
    "        print(f\"\\nItem {i+1}:\")\n",
    "        if 'text' in item:\n",
    "            print(f\"  Type: text\")\n",
    "            text_preview = item['text'][:200].replace('\\n', '\\\\n')\n",
    "            print(f\"  Preview: {text_preview}{'...' if len(item['text']) > 200 else ''}\")\n",
    "        elif 'image' in item:\n",
    "            print(f\"  Type: image\")\n",
    "            print(f\"  Format: {item['image'].get('format', 'unknown')}\")\n",
    "            if 'source' in item['image'] and 'bytes' in item['image']['source']:\n",
    "                print(f\"  Size: {len(item['image']['source']['bytes'])} bytes\")\n",
    "        else:\n",
    "            print(f\"  Type: unknown\")\n",
    "            print(f\"  Keys: {list(item.keys())}\")\n",
    "            \n",
    "except Exception as e:\n",
    "    print(f\"Error building content with few-shot examples: {e}\")\n",
    "    import traceback\n",
    "    traceback.print_exc()"
   ]
  },
  {
   "cell_type": "markdown",
   "metadata": {},
   "source": [
    "## Test Path Resolution Logic"
   ]
  },
  {
   "cell_type": "code",
   "execution_count": null,
   "metadata": {},
   "outputs": [
    {
     "name": "stderr",
     "output_type": "stream",
     "text": [
      "Error reading binary content from s3://test-config-bucket/config_library/pattern-2/few_shot_example/example-images/letter1.jpg: An error occurred (AccessDenied) when calling the GetObject operation: Access Denied\n",
      "Failed to load image s3://test-config-bucket/config_library/pattern-2/few_shot_example/example-images/letter1.jpg: An error occurred (AccessDenied) when calling the GetObject operation: Access Denied\n",
      "Error reading binary content from s3://test-config-bucket/config_library/pattern-2/few_shot_example/example-images/letter2.png: An error occurred (AccessDenied) when calling the GetObject operation: Access Denied\n",
      "Failed to load image s3://test-config-bucket/config_library/pattern-2/few_shot_example/example-images/letter2.png: An error occurred (AccessDenied) when calling the GetObject operation: Access Denied\n",
      "Error reading binary content from s3://test-config-bucket/config_library/pattern-2/few_shot_example/example-images/email1.jpg: An error occurred (AccessDenied) when calling the GetObject operation: Access Denied\n",
      "Failed to load image s3://test-config-bucket/config_library/pattern-2/few_shot_example/example-images/email1.jpg: An error occurred (AccessDenied) when calling the GetObject operation: Access Denied\n",
      "Error listing images from S3 prefix s3://test-config-bucket/config_library/pattern-2/few_shot_example/example-images/bank-statement-pages/: An error occurred (AccessDenied) when calling the ListObjectsV2 operation: Access Denied\n"
     ]
    },
    {
     "name": "stdout",
     "output_type": "stream",
     "text": [
      "Testing image path resolution logic:\n",
      "==================================================\n",
      "\n",
      "1. WITHOUT ROOT_DIR or CONFIGURATION_BUCKET:\n",
      "--------------------------------------------------\n",
      "Error building examples without ROOT_DIR: Failed to load example images from config_library/pattern-2/few_shot_example/example-images/letter1.jpg: No CONFIGURATION_BUCKET or ROOT_DIR set. Cannot read example images from local filesystem.\n",
      "This is normal - eithe ROOT_DIR or CONFIGURATION_BUCKET must be set, OR image paths must specify full S3 URI\n",
      "\n",
      "2. WITH CONFIGURATION_BUCKET environment variable:\n",
      "--------------------------------------------------\n",
      "CONFIGURATION_BUCKET set to: test-config-bucket\n",
      "Note: This would attempt to load images from S3, which may fail without proper setup\n",
      "Expected error when trying to access S3: Failed to load example images from config_library/pattern-2/few_shot_example/example-images/bank-statement-pages/: An error occurred (AccessDenied) when calling the ListObjectsV2 operation: Access Denied\n",
      "This is normal - the logic correctly tries to use S3 when CONFIGURATION_BUCKET is set\n"
     ]
    }
   ],
   "source": [
    "# Test path resolution with different environment variables\n",
    "print(\"Testing image path resolution logic:\")\n",
    "print(\"=\" * 50)\n",
    "\n",
    "# Test 1: Without ROOT_DIR or CONFIGURATION_BUCKET\n",
    "print(\"\\n1. WITHOUT ROOT_DIR or CONFIGURATION_BUCKET:\")\n",
    "print(\"-\" * 50)\n",
    "\n",
    "if 'ROOT_DIR' in os.environ:\n",
    "    del os.environ['ROOT_DIR']\n",
    "if 'CONFIGURATION_BUCKET' in os.environ:\n",
    "    del os.environ['CONFIGURATION_BUCKET']\n",
    "\n",
    "try:\n",
    "    # Create a new service instance without ROOT_DIR\n",
    "    test_service = ClassificationService(\n",
    "        config=config,\n",
    "        backend=\"bedrock\",\n",
    "        region=\"us-east-1\"\n",
    "    )\n",
    "    \n",
    "    examples_content = test_service._build_few_shot_examples_content()\n",
    "    print(f\"Successfully built {len(examples_content)} content items using calculated path\")\n",
    "    \n",
    "    # Count successful image loads\n",
    "    image_items = [item for item in examples_content if 'image' in item]\n",
    "    print(f\"Loaded {len(image_items)} image items from local files\")\n",
    "    \n",
    "except Exception as e:\n",
    "    print(f\"Error building examples without ROOT_DIR: {e}\")\n",
    "    print(\"This is normal - eithe ROOT_DIR or CONFIGURATION_BUCKET must be set, OR image paths must specify full S3 URI\")\n",
    "\n",
    "\n",
    "# Test 2: With CONFIGURATION_BUCKET\n",
    "print(\"\\n2. WITH CONFIGURATION_BUCKET environment variable:\")\n",
    "print(\"-\" * 50)\n",
    "\n",
    "# Set a test bucket name\n",
    "os.environ['CONFIGURATION_BUCKET'] = 'test-config-bucket'\n",
    "\n",
    "try:\n",
    "    test_service = ClassificationService(\n",
    "        config=config,\n",
    "        backend=\"bedrock\",\n",
    "        region=\"us-east-1\"\n",
    "    )\n",
    "    \n",
    "    print(f\"CONFIGURATION_BUCKET set to: {os.environ.get('CONFIGURATION_BUCKET')}\")\n",
    "    print(\"Note: This would attempt to load images from S3, which may fail without proper setup\")\n",
    "    \n",
    "    # This will likely fail since the S3 bucket doesn't exist, but it shows the logic\n",
    "    try:\n",
    "        examples_content = test_service._build_few_shot_examples_content()\n",
    "        print(f\"Successfully built {len(examples_content)} content items using S3\")\n",
    "    except Exception as e:\n",
    "        print(f\"Expected error when trying to access S3: {e}\")\n",
    "        print(\"This is normal - the logic correctly tries to use S3 when CONFIGURATION_BUCKET is set\")\n",
    "\n",
    "except Exception as e:\n",
    "    print(f\"Error with CONFIGURATION_BUCKET test: {e}\")\n",
    "\n",
    "# Restore config\n",
    "del os.environ['CONFIGURATION_BUCKET']\n",
    "os.environ['ROOT_DIR'] = ROOTDIR"
   ]
  },
  {
   "cell_type": "markdown",
   "metadata": {},
   "source": []
  }
 ],
 "metadata": {
  "kernelspec": {
   "display_name": "Python 3",
   "language": "python",
   "name": "python3"
  },
  "language_info": {
   "codemirror_mode": {
    "name": "ipython",
    "version": 3
   },
   "file_extension": ".py",
   "mimetype": "text/x-python",
   "name": "python",
   "nbconvert_exporter": "python",
   "pygments_lexer": "ipython3",
   "version": "3.12.10"
  }
 },
 "nbformat": 4,
 "nbformat_minor": 4
}
