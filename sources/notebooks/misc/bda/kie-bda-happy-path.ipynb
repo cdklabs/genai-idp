{
 "cells": [
  {
   "cell_type": "markdown",
   "metadata": {},
   "source": [
    "\n",
    "# To use this notebook:\n",
    "* This notebook was designed to run in a UNIX like environment (Linux, Mac, WSL)\n",
    "* Enable any required Bedrock models in the target AWS account.\n",
    "* From a terminal, activate a conda or other Python virtual environment where dependencies can be installed.\n",
    "* Be sure that the same Python/conda/virtual environment is selected as a kernel for the notebook before executing.\n",
    "* Run `make install` from the `idp_common_pkg/` directory to install the `idp_common` Python library and its dependencies.\n",
    "* Copy the `.env.example` file in the notebooks folder to a file named `.env`\n",
    "* Customize the `IDP_INPUT_BUCKET_NAME` and `IDP_OUTPUT_BUCKET_NAME`, as well as any other values like `AWS_PROFILE` and `MLFLOW_TRACKING_URI` to their proper values.\n",
    "* Copy any files referenced in the notebook to the proper location in the input/output S3 buckets.\n",
    "___"
   ]
  },
  {
   "cell_type": "code",
   "execution_count": null,
   "metadata": {},
   "outputs": [],
   "source": [
    "%load_ext autoreload\n",
    "%autoreload 2\n",
    "from IPython.display import Markdown\n",
    "from dotenv import load_dotenv\n",
    "import logging\n",
    "logging.basicConfig(level=logging.INFO, format='%(asctime)s - %(levelname)s - %(message)s')\n",
    "import os, sys\n",
    "load_dotenv()"
   ]
  },
  {
   "cell_type": "code",
   "execution_count": null,
   "metadata": {},
   "outputs": [],
   "source": [
    "# Define the S3 locations for input and output\n",
    "input_bucket_name =  os.getenv(\"IDP_INPUT_BUCKET_NAME\")\n",
    "output_bucket_name = os.getenv(\"IDP_OUTPUT_BUCKET_NAME\")\n",
    "filename = \"insurance_package.pdf\"\n",
    "input_object_key = f\"input-docs/samples/{filename}\"\n",
    "\n",
    "input_s3_uri = f\"s3://{input_bucket_name}/{input_object_key}\"\n",
    "output_s3_uri = f\"s3://{input_bucket_name}/output-docs\"\n",
    "blueprintArn=os.getenv(\"BDA_BLUEPRINT_ARN\")"
   ]
  },
  {
   "cell_type": "code",
   "execution_count": null,
   "metadata": {},
   "outputs": [],
   "source": [
    "from idp_common.bda.bda_service import BdaService\n",
    "\n",
    "\n",
    "bda_service = BdaService(\n",
    "    output_s3_uri=output_s3_uri\n",
    ")"
   ]
  },
  {
   "cell_type": "code",
   "execution_count": null,
   "metadata": {},
   "outputs": [],
   "source": [
    "result = bda_service.invoke_data_automation(input_s3_uri=input_s3_uri, blueprintArn=blueprintArn)"
   ]
  },
  {
   "cell_type": "markdown",
   "metadata": {},
   "source": []
  },
  {
   "cell_type": "code",
   "execution_count": null,
   "metadata": {},
   "outputs": [],
   "source": [
    "import json\n",
    "\n",
    "display(Markdown(f\"``` json\\n{json.dumps(result, indent=2)}\\n```\"))"
   ]
  },
  {
   "cell_type": "code",
   "execution_count": null,
   "metadata": {},
   "outputs": [],
   "source": [
    "from dataclasses import asdict\n",
    "\n",
    "from idp_common.bda.bda_invocation import BdaInvocation\n",
    "\n",
    "bda_invocation = BdaInvocation.from_s3(s3_url=result[\"output_location\"])"
   ]
  },
  {
   "cell_type": "code",
   "execution_count": null,
   "metadata": {},
   "outputs": [],
   "source": [
    "display(Markdown(f\"``` json\\n{json.dumps(asdict(bda_invocation), indent=2)}\\n```\"))"
   ]
  },
  {
   "cell_type": "code",
   "execution_count": null,
   "metadata": {},
   "outputs": [],
   "source": [
    "custom_output = bda_invocation.get_custom_output()\n",
    "\n",
    "display(Markdown(f\"``` json\\n{json.dumps(custom_output, indent=2)}\\n```\"))"
   ]
  }
 ],
 "metadata": {
  "kernelspec": {
   "display_name": "idp",
   "language": "python",
   "name": "python3"
  },
  "language_info": {
   "codemirror_mode": {
    "name": "ipython",
    "version": 3
   },
   "file_extension": ".py",
   "mimetype": "text/x-python",
   "name": "python",
   "nbconvert_exporter": "python",
   "pygments_lexer": "ipython3",
   "version": "3.12.9"
  }
 },
 "nbformat": 4,
 "nbformat_minor": 2
}
